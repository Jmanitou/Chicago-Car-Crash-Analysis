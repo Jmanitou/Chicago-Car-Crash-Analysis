{
 "cells": [
  {
   "cell_type": "code",
   "execution_count": 208,
   "metadata": {},
   "outputs": [],
   "source": [
    "import pandas as pd\n",
    "import numpy as np\n",
    "import math\n",
    "\n",
    "import matplotlib.pyplot as plt\n",
    "import seaborn as sns\n",
    "\n",
    "from sklearn.preprocessing import StandardScaler\n",
    "from sklearn.linear_model import LogisticRegression\n",
    "from sklearn.tree import DecisionTreeClassifier, plot_tree\n",
    "from sklearn.model_selection import train_test_split\n",
    "from sklearn.metrics import accuracy_score, recall_score, precision_score, f1_score\n",
    "from sklearn.metrics import ConfusionMatrixDisplay, confusion_matrix, classification_report\n",
    "from sklearn.metrics import roc_auc_score, RocCurveDisplay, roc_curve, auc"
   ]
  },
  {
   "cell_type": "markdown",
   "metadata": {},
   "source": [
    "# Chicago Car Crash Analysis"
   ]
  },
  {
   "cell_type": "markdown",
   "metadata": {},
   "source": [
    "## Overview \n",
    "add overview "
   ]
  },
  {
   "cell_type": "markdown",
   "metadata": {},
   "source": [
    "## Business Problem\n",
    "\n",
    "We an advertisement company hired by the City of Chicago to create a series of safe driving Public Safety Anncouncements for young adults. \n",
    "\n",
    "These ads will run on social media as well as being posted near high schools and college campuses. \n",
    "\n",
    "In order to figure out what ads will be the most effective, we are examining the causes of accidents for two age ranges: 15-18 year olds and 18-22 year olds. Once we determine the most common causes of accidents, we will be able to tailor our ads for the city, and hopefully reduce accidents for our target group."
   ]
  },
  {
   "cell_type": "markdown",
   "metadata": {},
   "source": [
    "## Data Source \n",
    "\n",
    "Car crash and vehicle accident data was sourced from the [Chicago Data Portal](https://data.cityofchicago.org/Transportation/Traffic-Crashes-People/u6pd-qa9d/about_data). It originates from the [City of Chicago](http://www.chicago.gov/)\n",
    "\n",
    "Data collection began in 2015, but was only adopted by all police departments in 2017. The most recent data entry was from September 26, 2024. "
   ]
  },
  {
   "cell_type": "markdown",
   "metadata": {},
   "source": [
    "## Results\n",
    "\n",
    "add results"
   ]
  },
  {
   "cell_type": "markdown",
   "metadata": {},
   "source": [
    "# Data Import and Cleaning "
   ]
  },
  {
   "cell_type": "code",
   "execution_count": 209,
   "metadata": {},
   "outputs": [],
   "source": [
    "#df_vehicles = pd.read_csv(\"data/Traffic_Crashes_Vehicles.csv\")\n",
    "#df_people = pd.read_csv(\"data/Traffic_Crashes_People.csv\")\n",
    "#df_crashes = pd.read_csv(\"data/Traffic_Crashes_Crashes.csv\")"
   ]
  },
  {
   "cell_type": "markdown",
   "metadata": {},
   "source": [
    "## Merge Dataframes\n",
    "\n",
    "First we sample 300,000 crash reports, then we merge the vehicle and people involved. "
   ]
  },
  {
   "cell_type": "code",
   "execution_count": 210,
   "metadata": {},
   "outputs": [],
   "source": [
    "#Random sample of vehicles \n",
    "#df_accidents = df_vehicles.sample(n=350000, random_state=42)"
   ]
  },
  {
   "cell_type": "code",
   "execution_count": 211,
   "metadata": {},
   "outputs": [],
   "source": [
    "#Then we can add the crash report data \n",
    "#df_accidents = df_accidents.merge(df_crashes, how=\"inner\", on=[\"CRASH_RECORD_ID\", \"CRASH_DATE\"])"
   ]
  },
  {
   "cell_type": "code",
   "execution_count": 212,
   "metadata": {},
   "outputs": [],
   "source": [
    "#every person and vehicle should have a match for the record ID, vehicle ID, and crash date\n",
    "#This makes the dataframe larger as multiple people are involved in each accident \n",
    "#df_accidents = df_accidents.merge(df_people, how=\"inner\", on=[\"CRASH_RECORD_ID\", \"VEHICLE_ID\", \"CRASH_DATE\"])"
   ]
  },
  {
   "cell_type": "markdown",
   "metadata": {},
   "source": [
    "The dataframe gets larger when merging in the people, as there are sometimes more than one person involved in an accident.  "
   ]
  },
  {
   "cell_type": "markdown",
   "metadata": {},
   "source": [
    "# THIS IS FOR WORKING PURPOSES. \n",
    "\n",
    "# USE THIS TO IMPORT DF WITHOUT RUNNING THE CELLS ABOVE."
   ]
  },
  {
   "cell_type": "markdown",
   "metadata": {},
   "source": [
    "## Export Final"
   ]
  },
  {
   "cell_type": "code",
   "execution_count": 213,
   "metadata": {},
   "outputs": [],
   "source": [
    "#df_accidents.to_csv('data/Final_Data.csv')"
   ]
  },
  {
   "cell_type": "markdown",
   "metadata": {},
   "source": [
    "## Read Final"
   ]
  },
  {
   "cell_type": "code",
   "execution_count": 214,
   "metadata": {},
   "outputs": [
    {
     "name": "stderr",
     "output_type": "stream",
     "text": [
      "C:\\Users\\Owner\\anaconda3\\envs\\learn-env\\lib\\site-packages\\IPython\\core\\interactiveshell.py:3145: DtypeWarning: Columns (19,21,40,41,42,44,48,49,50,55,58,59,61,71,102,123,143) have mixed types.Specify dtype option on import or set low_memory=False.\n",
      "  has_raised = await self.run_ast_nodes(code_ast.body, cell_name,\n"
     ]
    }
   ],
   "source": [
    "df_accidents = pd.read_csv(\"data/Final_Data.csv\")"
   ]
  },
  {
   "cell_type": "markdown",
   "metadata": {},
   "source": [
    "# ^^^^^ DELETE BEFORE SUBMISSION"
   ]
  },
  {
   "cell_type": "code",
   "execution_count": 215,
   "metadata": {},
   "outputs": [],
   "source": [
    "#Sets all column names to lowercase\n",
    "df_accidents.columns = [column.lower() for column in df_accidents.columns]"
   ]
  },
  {
   "cell_type": "code",
   "execution_count": 216,
   "metadata": {},
   "outputs": [],
   "source": [
    "#have the crash date as a datetime object. \n",
    "df_accidents['crash_date'] = pd.to_datetime(df_accidents['crash_date'], format=\"%m/%d/%Y %I:%M:%S %p\")"
   ]
  },
  {
   "cell_type": "markdown",
   "metadata": {},
   "source": [
    "## Drop Unnessisary Columns"
   ]
  },
  {
   "cell_type": "code",
   "execution_count": 217,
   "metadata": {},
   "outputs": [],
   "source": [
    "#remove columns with less than 50% of data present \n",
    "df_accidents.dropna(axis=1, thresh = int(0.5*df_accidents.shape[0]), inplace=True)"
   ]
  },
  {
   "cell_type": "code",
   "execution_count": 218,
   "metadata": {},
   "outputs": [],
   "source": [
    "cols_to_drop = [\n",
    "#remove unnessisary id columns now the data is joined \n",
    "'vehicle_id', 'crash_record_id', 'crash_unit_id',\n",
    "#drop LAT and LONG (we have location)\n",
    "'latitude', 'longitude',\n",
    "#...also drop streets and directions. \n",
    "'street_no', 'street_direction', 'street_name', 'travel_direction', \n",
    "#police specific \n",
    "'beat_of_occurrence', \n",
    "#every data entry is in chicago \n",
    "'city', 'zipcode', \n",
    "#covered by MOST_SEVERE_INJURY\n",
    "'injury_classification',\n",
    "#many NAN\n",
    "'injuries_unknown'\n",
    "]\n",
    "\n",
    "df_accidents.drop(columns=cols_to_drop, inplace=True)\n"
   ]
  },
  {
   "cell_type": "code",
   "execution_count": 219,
   "metadata": {},
   "outputs": [],
   "source": [
    "df_accidents = df_accidents.loc[(df_accidents['age'] > 14) & (df_accidents['age'] < 23) & \n",
    "                                (df_accidents['person_type'] == 'DRIVER') & (df_accidents['state'] == 'IL')]\n",
    "df_accidents\n",
    "df_accidents = df_accidents.loc[df_accidents['vehicle_year'].notna()]"
   ]
  },
  {
   "cell_type": "code",
   "execution_count": 220,
   "metadata": {},
   "outputs": [],
   "source": [
    "#map the weather to a number \n",
    "\n",
    "def weather_code(weather):\n",
    "    \"\"\"\n",
    "    0 - Unknown, Clear, Clouds\n",
    "    1 - Rain, Snow, Freezing Rain/Drizzle, Sleet/Hail, Blowing Snow, Fog/Smoke/Haze, Blowing Sand/Soil/Dirt\n",
    "    \"\"\"\n",
    "    #unserious weather condition\n",
    "    if weather in ['CLEAR', 'CLOUDY/OVERCAST']:\n",
    "        return 0\n",
    "    #serious weather condition\n",
    "    elif weather in ['RAIN', 'SNOW', 'FREEZING RAIN/DRIZZLE', 'SLEET/HAIL', 'BLOWING SNOW', 'FOG/SMOKE/HAZE', \n",
    "                     'BLOWING SAND/SOIL/DIRT']:\n",
    "        return 1\n",
    "    #unknown weather condition\n",
    "    return 0\n",
    "    \n",
    "df_accidents['weather_condition'] = df_accidents['weather_condition'].map(weather_code)"
   ]
  },
  {
   "cell_type": "code",
   "execution_count": 221,
   "metadata": {},
   "outputs": [
    {
     "data": {
      "text/plain": [
       "0    17089\n",
       "1     1677\n",
       "Name: lighting_condition, dtype: int64"
      ]
     },
     "execution_count": 221,
     "metadata": {},
     "output_type": "execute_result"
    }
   ],
   "source": [
    "#map the lighting conditions\n",
    "def lighting(lighting_condition):\n",
    "    \"\"\"\n",
    "    0 - Unknown, darkness (lighted road), Daylight\n",
    "    1 - Darkness, Dusk, Dawn\n",
    "    \"\"\"\n",
    "    #bad lighting conditions\n",
    "    if lighting_condition in ['DARKNESS', 'DUSK', 'DAWN']:\n",
    "        return 1\n",
    "    #good/unknown lighting conditions\n",
    "    return 0\n",
    "df_accidents['lighting_condition'] = df_accidents['lighting_condition'].map(lighting)\n",
    "df_accidents['lighting_condition'].value_counts()"
   ]
  },
  {
   "cell_type": "code",
   "execution_count": 222,
   "metadata": {},
   "outputs": [
    {
     "data": {
      "text/plain": [
       "NO INDICATION OF INJURY     15204\n",
       "NONINCAPACITATING INJURY     2054\n",
       "REPORTED, NOT EVIDENT        1063\n",
       "INCAPACITATING INJURY         420\n",
       "FATAL                          25\n",
       "Name: most_severe_injury, dtype: int64"
      ]
     },
     "execution_count": 222,
     "metadata": {},
     "output_type": "execute_result"
    }
   ],
   "source": [
    "df_accidents['most_severe_injury'].value_counts()"
   ]
  },
  {
   "cell_type": "code",
   "execution_count": 177,
   "metadata": {},
   "outputs": [],
   "source": [
    "#map the injuries to a number \n",
    "\n",
    "def injury_severity(severity):\n",
    "    \"\"\"\n",
    "    Injuries are categorized on a scale of 0 to 1\n",
    "    0 - No Indication of Injury \n",
    "    0 - REPORTED, NOT EVIDENT \n",
    "    0 - Nonincapacitating Injury \n",
    "    1 - incapacitating Injury \n",
    "    1 - Fatal Injury \n",
    "    \"\"\"\n",
    "    #Serious Injury\n",
    "    if severity in ['INCAPACITATING INJURY', 'FATAL']:\n",
    "        return 1\n",
    "    #No Injury or Minor Injury\n",
    "    else:\n",
    "        return 0\n",
    "    \n",
    "\n",
    "df_accidents['serious_injury'] = df_accidents['most_severe_injury'].map(injury_severity)"
   ]
  },
  {
   "cell_type": "code",
   "execution_count": 178,
   "metadata": {},
   "outputs": [],
   "source": [
    "#map the crash severity to a number \n",
    "\n",
    "def crash_severity(severity):\n",
    "    \"\"\"\n",
    "    Injuries are categorized on a scale of 0 to X\n",
    "    0 - No Injury / Drive Away \n",
    "    1 - Injury and / or tow  \n",
    "    \"\"\"\n",
    "    if severity == 'NO INJURY / DRIVE AWAY':\n",
    "        return 0\n",
    "    else:\n",
    "        return 1\n",
    "    \n",
    "\n",
    "df_accidents['crash_type'] = df_accidents['crash_type'].map(crash_severity)"
   ]
  },
  {
   "cell_type": "code",
   "execution_count": 179,
   "metadata": {},
   "outputs": [],
   "source": [
    "#drop the columns \n",
    "in_cols_to_drop = [\n",
    "#remove counts of each injury \n",
    "'injuries_fatal', 'injuries_incapacitating', 'injuries_non_incapacitating',\n",
    "'injuries_reported_not_evident', 'injuries_no_indication'\n",
    "]\n",
    "\n",
    "df_accidents.drop(columns=in_cols_to_drop, inplace=True)"
   ]
  },
  {
   "cell_type": "code",
   "execution_count": 180,
   "metadata": {},
   "outputs": [
    {
     "data": {
      "text/plain": [
       "array(['UNABLE TO DETERMINE', 'FOLLOWING TOO CLOSELY',\n",
       "       'IMPROPER TURNING/NO SIGNAL', 'DISTRACTION - FROM INSIDE VEHICLE',\n",
       "       'IMPROPER OVERTAKING/PASSING', 'FAILING TO YIELD RIGHT-OF-WAY',\n",
       "       'FAILING TO REDUCE SPEED TO AVOID CRASH', 'IMPROPER LANE USAGE',\n",
       "       'ANIMAL', 'NOT APPLICABLE', 'DISREGARDING TRAFFIC SIGNALS',\n",
       "       'DRIVING SKILLS/KNOWLEDGE/EXPERIENCE', 'IMPROPER BACKING',\n",
       "       'DISTRACTION - FROM OUTSIDE VEHICLE',\n",
       "       'EQUIPMENT - VEHICLE CONDITION',\n",
       "       'OPERATING VEHICLE IN ERRATIC, RECKLESS, CARELESS, NEGLIGENT OR AGGRESSIVE MANNER',\n",
       "       'WEATHER', 'PHYSICAL CONDITION OF DRIVER',\n",
       "       'CELL PHONE USE OTHER THAN TEXTING',\n",
       "       'UNDER THE INFLUENCE OF ALCOHOL/DRUGS (USE WHEN ARREST IS EFFECTED)',\n",
       "       'DISREGARDING STOP SIGN',\n",
       "       'VISION OBSCURED (SIGNS, TREE LIMBS, BUILDINGS, ETC.)',\n",
       "       'EXCEEDING AUTHORIZED SPEED LIMIT',\n",
       "       'DRIVING ON WRONG SIDE/WRONG WAY', 'DISREGARDING ROAD MARKINGS',\n",
       "       'OBSTRUCTED CROSSWALKS', 'EXCEEDING SAFE SPEED FOR CONDITIONS',\n",
       "       'ROAD CONSTRUCTION/MAINTENANCE',\n",
       "       'DISTRACTION - OTHER ELECTRONIC DEVICE (NAVIGATION DEVICE, DVD PLAYER, ETC.)',\n",
       "       'ROAD ENGINEERING/SURFACE/MARKING DEFECTS',\n",
       "       'HAD BEEN DRINKING (USE WHEN ARREST IS NOT MADE)',\n",
       "       'EVASIVE ACTION DUE TO ANIMAL, OBJECT, NONMOTORIST',\n",
       "       'DISREGARDING OTHER TRAFFIC SIGNS', 'TURNING RIGHT ON RED',\n",
       "       'TEXTING', 'DISREGARDING YIELD SIGN', 'RELATED TO BUS STOP',\n",
       "       'MOTORCYCLE ADVANCING LEGALLY ON RED LIGHT',\n",
       "       'PASSING STOPPED SCHOOL BUS'], dtype=object)"
      ]
     },
     "execution_count": 180,
     "metadata": {},
     "output_type": "execute_result"
    }
   ],
   "source": [
    "df_accidents['prim_contributory_cause'].unique()"
   ]
  },
  {
   "cell_type": "code",
   "execution_count": 181,
   "metadata": {},
   "outputs": [],
   "source": [
    "# Categorize primary contributory cause into different categories\n",
    "\n",
    "def bin_cause(cause):\n",
    "    \n",
    "    if cause == 'UNABLE TO DETERMINE':\n",
    "        return 0\n",
    "    \n",
    "    elif cause in ['DISREGARDING TRAFFIC SIGNALS', 'IMPROPER LANE USAGE', 'FOLLOWING TOO CLOSELY', \n",
    "                   'IMPROPER TURNING/NO SIGNAL', 'IMPROPER OVERTAKING/PASSING', 'FAILING TO YIELD RIGHT-OF-WAY',\n",
    "                   'DISREGARDING OTHER TRAFFIC SIGNS', 'DISREGARDING STOP SIGN',\n",
    "                   'FAILING TO REDUCE SPEED TO AVOID CRASH', \n",
    "                   'OPERATING VEHICLE IN ERRATIC, RECKLESS, CARELESS, NEGLIGENT OR AGGRESSIVE MANNER',\n",
    "                   'IMPROPER BACKING', 'DRIVING SKILLS/KNOWLEDGE/EXPERIENCE',\n",
    "                   'EXCEEDING AUTHORIZED SPEED LIMIT', 'DRIVING ON WRONG SIDE/WRONG WAY',\n",
    "                   'DISREGARDING ROAD MARKINGS', 'EXCEEDING SAFE SPEED FOR CONDITIONS', 'DISREGARDING YIELD SIGN',\n",
    "                   'TURNING RIGHT ON RED', 'BICYCLE ADVANCING LEGALLY ON RED LIGHT', 'PASSING STOPPED SCHOOL BUS',\n",
    "                   'RELATED TO BUS STOP', 'MOTORCYCLE ADVANCING LEGALLY ON RED LIGHT']:\n",
    "        return 1\n",
    "                 \n",
    "    elif cause in ['UNDER THE INFLUENCE OF ALCOHOL/DRUGS (USE WHEN ARREST IS EFFECTED)', \n",
    "                   'HAD BEEN DRINKING (USE WHEN ARREST IS NOT MADE)']:\n",
    "        return 2\n",
    "    \n",
    "    elif cause in ['DISTRACTION - FROM INSIDE VEHICLE', 'DISTRACTION - FROM OUTSIDE VEHICLE', \n",
    "                   'CELL PHONE USE OTHER THAN TEXTING', \n",
    "                   'DISTRACTION - OTHER ELECTRONIC DEVICE (NAVIGATION DEVICE, DVD PLAYER, ETC.)', \n",
    "                   'TEXTING']:\n",
    "        return 3     \n",
    "    \n",
    " #we may want to look into NOT APPLICABLE to see what that could mean                \n",
    "    elif cause in ['NOT APPLICABLE', 'PHYSICAL CONDITION OF DRIVER', \n",
    "                 'EQUIPMENT - VEHICLE CONDITION', 'VISION OBSCURED (SIGNS, TREE LIMBS, BUILDINGS, ETC.)'\n",
    "                 'ROAD ENGINEERING/SURFACE/MARKING DEFECTS', 'EVASIVE ACTION DUE TO ANIMAL, OBJECT, NONMOTORIST',\n",
    "                 'OBSTRUCTED CROSSWALKS', 'ROAD CONSTRUCTION/MAINTENANCE', 'WEATHER', 'ANIMAL']:\n",
    "        return 4\n",
    "    else:\n",
    "        return 0\n",
    "    \n",
    "df_accidents['prim_contributory_cause'] = df_accidents['prim_contributory_cause'].map(bin_cause)\n",
    "df_accidents['sec_contributory_cause'] = df_accidents['prim_contributory_cause'].map(bin_cause)\n",
    "    "
   ]
  },
  {
   "cell_type": "code",
   "execution_count": 182,
   "metadata": {},
   "outputs": [
    {
     "data": {
      "text/plain": [
       "False    18766\n",
       "Name: prim_contributory_cause, dtype: int64"
      ]
     },
     "execution_count": 182,
     "metadata": {},
     "output_type": "execute_result"
    }
   ],
   "source": [
    "df_accidents['prim_contributory_cause'].isna().value_counts()"
   ]
  },
  {
   "cell_type": "code",
   "execution_count": 183,
   "metadata": {},
   "outputs": [
    {
     "name": "stdout",
     "output_type": "stream",
     "text": [
      "<class 'pandas.core.frame.DataFrame'>\n",
      "Int64Index: 18766 entries, 44 to 378284\n",
      "Data columns (total 51 columns):\n",
      " #   Column                   Non-Null Count  Dtype         \n",
      "---  ------                   --------------  -----         \n",
      " 0   unnamed: 0               18766 non-null  int64         \n",
      " 1   crash_date               18766 non-null  datetime64[ns]\n",
      " 2   unit_no                  18766 non-null  int64         \n",
      " 3   unit_type                18766 non-null  object        \n",
      " 4   make                     18765 non-null  object        \n",
      " 5   model                    18762 non-null  object        \n",
      " 6   lic_plate_state          18223 non-null  object        \n",
      " 7   vehicle_year             18766 non-null  float64       \n",
      " 8   vehicle_defect           18766 non-null  object        \n",
      " 9   vehicle_type             18766 non-null  object        \n",
      " 10  vehicle_use              18766 non-null  object        \n",
      " 11  maneuver                 18766 non-null  object        \n",
      " 12  occupant_cnt             18766 non-null  float64       \n",
      " 13  first_contact_point      18750 non-null  object        \n",
      " 14  posted_speed_limit       18766 non-null  int64         \n",
      " 15  traffic_control_device   18766 non-null  object        \n",
      " 16  device_condition         18766 non-null  object        \n",
      " 17  weather_condition        18766 non-null  int64         \n",
      " 18  lighting_condition       18766 non-null  int64         \n",
      " 19  first_crash_type         18766 non-null  object        \n",
      " 20  trafficway_type          18766 non-null  object        \n",
      " 21  alignment                18766 non-null  object        \n",
      " 22  roadway_surface_cond     18766 non-null  object        \n",
      " 23  road_defect              18766 non-null  object        \n",
      " 24  report_type              18084 non-null  object        \n",
      " 25  crash_type               18766 non-null  int64         \n",
      " 26  damage                   18766 non-null  object        \n",
      " 27  date_police_notified     18766 non-null  object        \n",
      " 28  prim_contributory_cause  18766 non-null  int64         \n",
      " 29  sec_contributory_cause   18766 non-null  int64         \n",
      " 30  num_units                18766 non-null  int64         \n",
      " 31  most_severe_injury       18766 non-null  object        \n",
      " 32  injuries_total           18766 non-null  float64       \n",
      " 33  crash_hour               18766 non-null  int64         \n",
      " 34  crash_day_of_week        18766 non-null  int64         \n",
      " 35  crash_month              18766 non-null  int64         \n",
      " 36  location                 18655 non-null  object        \n",
      " 37  person_id                18766 non-null  object        \n",
      " 38  person_type              18766 non-null  object        \n",
      " 39  state                    18766 non-null  object        \n",
      " 40  sex                      18766 non-null  object        \n",
      " 41  age                      18766 non-null  float64       \n",
      " 42  drivers_license_state    17391 non-null  object        \n",
      " 43  safety_equipment         18766 non-null  object        \n",
      " 44  airbag_deployed          18766 non-null  object        \n",
      " 45  ejection                 18766 non-null  object        \n",
      " 46  driver_action            18766 non-null  object        \n",
      " 47  driver_vision            18766 non-null  object        \n",
      " 48  physical_condition       18766 non-null  object        \n",
      " 49  bac_result               18766 non-null  object        \n",
      " 50  serious_injury           18766 non-null  int64         \n",
      "dtypes: datetime64[ns](1), float64(4), int64(13), object(33)\n",
      "memory usage: 7.4+ MB\n"
     ]
    }
   ],
   "source": [
    "df_accidents.info()"
   ]
  },
  {
   "cell_type": "markdown",
   "metadata": {},
   "source": [
    "# Mapping BAC and Vehicle defects"
   ]
  },
  {
   "cell_type": "code",
   "execution_count": 184,
   "metadata": {},
   "outputs": [],
   "source": [
    "def vehicle_defect_clf(defect):\n",
    "    ''' \n",
    "    0 = No / Unknown defect\n",
    "\n",
    "    1 = Has a defect \n",
    "    '''\n",
    "    if defect in ['NONE', 'UNKNOWN']:\n",
    "        return 0\n",
    "    return 1\n",
    "\n",
    "df_accidents['vehicle_defect'] = df_accidents['vehicle_defect'].map(vehicle_defect_clf)"
   ]
  },
  {
   "cell_type": "code",
   "execution_count": 185,
   "metadata": {},
   "outputs": [
    {
     "data": {
      "text/plain": [
       "0    18766\n",
       "Name: sec_contributory_cause, dtype: int64"
      ]
     },
     "execution_count": 185,
     "metadata": {},
     "output_type": "execute_result"
    }
   ],
   "source": [
    "df_accidents['sec_contributory_cause'].value_counts()"
   ]
  },
  {
   "cell_type": "markdown",
   "metadata": {},
   "source": [
    "## Examine Correlations"
   ]
  },
  {
   "cell_type": "code",
   "execution_count": 186,
   "metadata": {},
   "outputs": [
    {
     "name": "stdout",
     "output_type": "stream",
     "text": [
      "                         unnamed: 0   unit_no  vehicle_year  vehicle_defect  \\\n",
      "unnamed: 0                 1.000000 -0.030351      0.000073        0.006591   \n",
      "unit_no                   -0.030351  1.000000      0.026196       -0.068996   \n",
      "vehicle_year               0.000073  0.026196      1.000000        0.001085   \n",
      "vehicle_defect             0.006591 -0.068996      0.001085        1.000000   \n",
      "occupant_cnt              -0.014501  0.049222      0.001302       -0.007074   \n",
      "posted_speed_limit        -0.015691  0.047335      0.003955        0.006839   \n",
      "weather_condition         -0.008608 -0.020038     -0.012835        0.004826   \n",
      "lighting_condition         0.002715  0.014262     -0.006905       -0.004310   \n",
      "crash_type                -0.028598 -0.040590     -0.004704        0.049832   \n",
      "prim_contributory_cause   -0.008234 -0.057914     -0.008435        0.137208   \n",
      "sec_contributory_cause          NaN       NaN           NaN             NaN   \n",
      "num_units                 -0.048291  0.187261      0.002157       -0.020337   \n",
      "injuries_total            -0.016062  0.011026      0.006647        0.009787   \n",
      "crash_hour                 0.016222  0.048054      0.000888       -0.020941   \n",
      "crash_day_of_week          0.005269  0.010822      0.012520       -0.010046   \n",
      "crash_month               -0.012091  0.003704      0.003863       -0.000030   \n",
      "age                        0.000115  0.092323      0.025221        0.002695   \n",
      "serious_injury            -0.006672 -0.015925     -0.003989       -0.000384   \n",
      "\n",
      "                         occupant_cnt  posted_speed_limit  weather_condition  \\\n",
      "unnamed: 0                  -0.014501           -0.015691          -0.008608   \n",
      "unit_no                      0.049222            0.047335          -0.020038   \n",
      "vehicle_year                 0.001302            0.003955          -0.012835   \n",
      "vehicle_defect              -0.007074            0.006839           0.004826   \n",
      "occupant_cnt                 1.000000            0.035541          -0.024308   \n",
      "posted_speed_limit           0.035541            1.000000           0.039689   \n",
      "weather_condition           -0.024308            0.039689           1.000000   \n",
      "lighting_condition           0.023693            0.011327           0.047676   \n",
      "crash_type                   0.141816            0.116815           0.042619   \n",
      "prim_contributory_cause      0.008054            0.034180           0.118764   \n",
      "sec_contributory_cause            NaN                 NaN                NaN   \n",
      "num_units                   -0.000047            0.018575          -0.001142   \n",
      "injuries_total               0.227511            0.069365           0.008593   \n",
      "crash_hour                   0.031228            0.004019          -0.012109   \n",
      "crash_day_of_week           -0.002576            0.000631           0.005040   \n",
      "crash_month                 -0.010001            0.008626          -0.036149   \n",
      "age                         -0.063775            0.021274          -0.005252   \n",
      "serious_injury               0.046497            0.027230          -0.012607   \n",
      "\n",
      "                         lighting_condition  crash_type  \\\n",
      "unnamed: 0                         0.002715   -0.028598   \n",
      "unit_no                            0.014262   -0.040590   \n",
      "vehicle_year                      -0.006905   -0.004704   \n",
      "vehicle_defect                    -0.004310    0.049832   \n",
      "occupant_cnt                       0.023693    0.141816   \n",
      "posted_speed_limit                 0.011327    0.116815   \n",
      "weather_condition                  0.047676    0.042619   \n",
      "lighting_condition                 1.000000   -0.010493   \n",
      "crash_type                        -0.010493    1.000000   \n",
      "prim_contributory_cause            0.001833    0.092531   \n",
      "sec_contributory_cause                  NaN         NaN   \n",
      "num_units                         -0.016444    0.122824   \n",
      "injuries_total                    -0.001095    0.507373   \n",
      "crash_hour                         0.112827   -0.062553   \n",
      "crash_day_of_week                 -0.004241   -0.023770   \n",
      "crash_month                        0.029829    0.010354   \n",
      "age                                0.000142   -0.028739   \n",
      "serious_injury                    -0.002169    0.198310   \n",
      "\n",
      "                         prim_contributory_cause  sec_contributory_cause  \\\n",
      "unnamed: 0                             -0.008234                     NaN   \n",
      "unit_no                                -0.057914                     NaN   \n",
      "vehicle_year                           -0.008435                     NaN   \n",
      "vehicle_defect                          0.137208                     NaN   \n",
      "occupant_cnt                            0.008054                     NaN   \n",
      "posted_speed_limit                      0.034180                     NaN   \n",
      "weather_condition                       0.118764                     NaN   \n",
      "lighting_condition                      0.001833                     NaN   \n",
      "crash_type                              0.092531                     NaN   \n",
      "prim_contributory_cause                 1.000000                     NaN   \n",
      "sec_contributory_cause                       NaN                     NaN   \n",
      "num_units                               0.015825                     NaN   \n",
      "injuries_total                          0.015418                     NaN   \n",
      "crash_hour                             -0.032626                     NaN   \n",
      "crash_day_of_week                      -0.015862                     NaN   \n",
      "crash_month                            -0.007322                     NaN   \n",
      "age                                    -0.013790                     NaN   \n",
      "serious_injury                          0.021438                     NaN   \n",
      "\n",
      "                         num_units  injuries_total  crash_hour  \\\n",
      "unnamed: 0               -0.048291       -0.016062    0.016222   \n",
      "unit_no                   0.187261        0.011026    0.048054   \n",
      "vehicle_year              0.002157        0.006647    0.000888   \n",
      "vehicle_defect           -0.020337        0.009787   -0.020941   \n",
      "occupant_cnt             -0.000047        0.227511    0.031228   \n",
      "posted_speed_limit        0.018575        0.069365    0.004019   \n",
      "weather_condition        -0.001142        0.008593   -0.012109   \n",
      "lighting_condition       -0.016444       -0.001095    0.112827   \n",
      "crash_type                0.122824        0.507373   -0.062553   \n",
      "prim_contributory_cause   0.015825        0.015418   -0.032626   \n",
      "sec_contributory_cause         NaN             NaN         NaN   \n",
      "num_units                 1.000000        0.131784    0.001768   \n",
      "injuries_total            0.131784        1.000000   -0.012138   \n",
      "crash_hour                0.001768       -0.012138    1.000000   \n",
      "crash_day_of_week        -0.000768       -0.016930    0.070195   \n",
      "crash_month               0.003149        0.011961    0.000668   \n",
      "age                       0.002804       -0.015451   -0.044688   \n",
      "serious_injury            0.037669        0.316082   -0.011096   \n",
      "\n",
      "                         crash_day_of_week  crash_month       age  \\\n",
      "unnamed: 0                        0.005269    -0.012091  0.000115   \n",
      "unit_no                           0.010822     0.003704  0.092323   \n",
      "vehicle_year                      0.012520     0.003863  0.025221   \n",
      "vehicle_defect                   -0.010046    -0.000030  0.002695   \n",
      "occupant_cnt                     -0.002576    -0.010001 -0.063775   \n",
      "posted_speed_limit                0.000631     0.008626  0.021274   \n",
      "weather_condition                 0.005040    -0.036149 -0.005252   \n",
      "lighting_condition               -0.004241     0.029829  0.000142   \n",
      "crash_type                       -0.023770     0.010354 -0.028739   \n",
      "prim_contributory_cause          -0.015862    -0.007322 -0.013790   \n",
      "sec_contributory_cause                 NaN          NaN       NaN   \n",
      "num_units                        -0.000768     0.003149  0.002804   \n",
      "injuries_total                   -0.016930     0.011961 -0.015451   \n",
      "crash_hour                        0.070195     0.000668 -0.044688   \n",
      "crash_day_of_week                 1.000000    -0.000641 -0.013649   \n",
      "crash_month                      -0.000641     1.000000 -0.002355   \n",
      "age                              -0.013649    -0.002355  1.000000   \n",
      "serious_injury                   -0.008122    -0.004952 -0.004076   \n",
      "\n",
      "                         serious_injury  \n",
      "unnamed: 0                    -0.006672  \n",
      "unit_no                       -0.015925  \n",
      "vehicle_year                  -0.003989  \n",
      "vehicle_defect                -0.000384  \n",
      "occupant_cnt                   0.046497  \n",
      "posted_speed_limit             0.027230  \n",
      "weather_condition             -0.012607  \n",
      "lighting_condition            -0.002169  \n",
      "crash_type                     0.198310  \n",
      "prim_contributory_cause        0.021438  \n",
      "sec_contributory_cause              NaN  \n",
      "num_units                      0.037669  \n",
      "injuries_total                 0.316082  \n",
      "crash_hour                    -0.011096  \n",
      "crash_day_of_week             -0.008122  \n",
      "crash_month                   -0.004952  \n",
      "age                           -0.004076  \n",
      "serious_injury                 1.000000  \n"
     ]
    }
   ],
   "source": [
    "#matrix = df_accidents.corr()\n",
    "#print(matrix)"
   ]
  },
  {
   "cell_type": "code",
   "execution_count": 187,
   "metadata": {},
   "outputs": [
    {
     "data": {
      "image/png": "[encoded data removed]",
      "text/plain": [
       "<Figure size 2160x2160 with 2 Axes>"
      ]
     },
     "metadata": {
      "needs_background": "light"
     },
     "output_type": "display_data"
    }
   ],
   "source": [
    "plt.figure(figsize=(30, 30))\n",
    "\n",
    "#create a mask to remove the duplicate upper half\n",
    "mask = np.triu(np.ones_like(matrix, dtype=np.bool))\n",
    "\n",
    "heatmap = sns.heatmap(matrix, vmin=-1, mask=mask, vmax=1, annot=True, cmap='BrBG')\n",
    "heatmap.set_title('Correlation Heatmap', fontdict={'fontsize':12}, pad=12);"
   ]
  },
  {
   "cell_type": "markdown",
   "metadata": {},
   "source": [
    "# Decision Tree"
   ]
  },
  {
   "cell_type": "code",
   "execution_count": 200,
   "metadata": {},
   "outputs": [],
   "source": [
    "#Train-Test Split\n",
    "\n",
    "X = df_accidents.select_dtypes(exclude=['object'])\n",
    "X = X.drop(columns='serious_injury')\n",
    "X = X.drop(columns=['unnamed: 0', 'crash_date', 'unit_no', 'num_units', 'injuries_total'])\n",
    "y = df_accidents['serious_injury']\n",
    "\n",
    "X_train, X_test, y_train, y_test = train_test_split(X, y, test_size=0.25, random_state=2)"
   ]
  },
  {
   "cell_type": "code",
   "execution_count": 201,
   "metadata": {},
   "outputs": [
    {
     "data": {
      "text/plain": [
       "0    18321\n",
       "1      445\n",
       "Name: serious_injury, dtype: int64"
      ]
     },
     "execution_count": 201,
     "metadata": {},
     "output_type": "execute_result"
    }
   ],
   "source": [
    "#examine data balance \n",
    "y.value_counts()"
   ]
  },
  {
   "cell_type": "code",
   "execution_count": 202,
   "metadata": {},
   "outputs": [
    {
     "data": {
      "text/html": [
       "<div>\n",
       "<style scoped>\n",
       "    .dataframe tbody tr th:only-of-type {\n",
       "        vertical-align: middle;\n",
       "    }\n",
       "\n",
       "    .dataframe tbody tr th {\n",
       "        vertical-align: top;\n",
       "    }\n",
       "\n",
       "    .dataframe thead th {\n",
       "        text-align: right;\n",
       "    }\n",
       "</style>\n",
       "<table border=\"1\" class=\"dataframe\">\n",
       "  <thead>\n",
       "    <tr style=\"text-align: right;\">\n",
       "      <th></th>\n",
       "      <th>vehicle_year</th>\n",
       "      <th>vehicle_defect</th>\n",
       "      <th>occupant_cnt</th>\n",
       "      <th>posted_speed_limit</th>\n",
       "      <th>weather_condition</th>\n",
       "      <th>lighting_condition</th>\n",
       "      <th>crash_type</th>\n",
       "      <th>prim_contributory_cause</th>\n",
       "      <th>sec_contributory_cause</th>\n",
       "      <th>crash_hour</th>\n",
       "      <th>crash_day_of_week</th>\n",
       "      <th>crash_month</th>\n",
       "      <th>age</th>\n",
       "    </tr>\n",
       "  </thead>\n",
       "  <tbody>\n",
       "    <tr>\n",
       "      <th>44</th>\n",
       "      <td>2014.0</td>\n",
       "      <td>0</td>\n",
       "      <td>2.0</td>\n",
       "      <td>30</td>\n",
       "      <td>0</td>\n",
       "      <td>0</td>\n",
       "      <td>0</td>\n",
       "      <td>0</td>\n",
       "      <td>0</td>\n",
       "      <td>21</td>\n",
       "      <td>7</td>\n",
       "      <td>8</td>\n",
       "      <td>21.0</td>\n",
       "    </tr>\n",
       "    <tr>\n",
       "      <th>51</th>\n",
       "      <td>2006.0</td>\n",
       "      <td>0</td>\n",
       "      <td>1.0</td>\n",
       "      <td>35</td>\n",
       "      <td>0</td>\n",
       "      <td>0</td>\n",
       "      <td>1</td>\n",
       "      <td>0</td>\n",
       "      <td>0</td>\n",
       "      <td>14</td>\n",
       "      <td>3</td>\n",
       "      <td>11</td>\n",
       "      <td>18.0</td>\n",
       "    </tr>\n",
       "    <tr>\n",
       "      <th>73</th>\n",
       "      <td>2013.0</td>\n",
       "      <td>0</td>\n",
       "      <td>1.0</td>\n",
       "      <td>35</td>\n",
       "      <td>0</td>\n",
       "      <td>0</td>\n",
       "      <td>1</td>\n",
       "      <td>1</td>\n",
       "      <td>0</td>\n",
       "      <td>8</td>\n",
       "      <td>1</td>\n",
       "      <td>9</td>\n",
       "      <td>19.0</td>\n",
       "    </tr>\n",
       "    <tr>\n",
       "      <th>79</th>\n",
       "      <td>2009.0</td>\n",
       "      <td>0</td>\n",
       "      <td>3.0</td>\n",
       "      <td>30</td>\n",
       "      <td>0</td>\n",
       "      <td>0</td>\n",
       "      <td>1</td>\n",
       "      <td>1</td>\n",
       "      <td>0</td>\n",
       "      <td>13</td>\n",
       "      <td>7</td>\n",
       "      <td>10</td>\n",
       "      <td>21.0</td>\n",
       "    </tr>\n",
       "    <tr>\n",
       "      <th>88</th>\n",
       "      <td>2018.0</td>\n",
       "      <td>0</td>\n",
       "      <td>1.0</td>\n",
       "      <td>30</td>\n",
       "      <td>0</td>\n",
       "      <td>0</td>\n",
       "      <td>1</td>\n",
       "      <td>3</td>\n",
       "      <td>0</td>\n",
       "      <td>7</td>\n",
       "      <td>6</td>\n",
       "      <td>10</td>\n",
       "      <td>22.0</td>\n",
       "    </tr>\n",
       "    <tr>\n",
       "      <th>...</th>\n",
       "      <td>...</td>\n",
       "      <td>...</td>\n",
       "      <td>...</td>\n",
       "      <td>...</td>\n",
       "      <td>...</td>\n",
       "      <td>...</td>\n",
       "      <td>...</td>\n",
       "      <td>...</td>\n",
       "      <td>...</td>\n",
       "      <td>...</td>\n",
       "      <td>...</td>\n",
       "      <td>...</td>\n",
       "      <td>...</td>\n",
       "    </tr>\n",
       "    <tr>\n",
       "      <th>378176</th>\n",
       "      <td>2015.0</td>\n",
       "      <td>0</td>\n",
       "      <td>2.0</td>\n",
       "      <td>30</td>\n",
       "      <td>0</td>\n",
       "      <td>0</td>\n",
       "      <td>0</td>\n",
       "      <td>1</td>\n",
       "      <td>0</td>\n",
       "      <td>15</td>\n",
       "      <td>1</td>\n",
       "      <td>7</td>\n",
       "      <td>22.0</td>\n",
       "    </tr>\n",
       "    <tr>\n",
       "      <th>378238</th>\n",
       "      <td>2006.0</td>\n",
       "      <td>0</td>\n",
       "      <td>1.0</td>\n",
       "      <td>30</td>\n",
       "      <td>0</td>\n",
       "      <td>0</td>\n",
       "      <td>0</td>\n",
       "      <td>1</td>\n",
       "      <td>0</td>\n",
       "      <td>15</td>\n",
       "      <td>4</td>\n",
       "      <td>9</td>\n",
       "      <td>18.0</td>\n",
       "    </tr>\n",
       "    <tr>\n",
       "      <th>378266</th>\n",
       "      <td>2005.0</td>\n",
       "      <td>0</td>\n",
       "      <td>1.0</td>\n",
       "      <td>30</td>\n",
       "      <td>0</td>\n",
       "      <td>0</td>\n",
       "      <td>1</td>\n",
       "      <td>1</td>\n",
       "      <td>0</td>\n",
       "      <td>8</td>\n",
       "      <td>1</td>\n",
       "      <td>12</td>\n",
       "      <td>20.0</td>\n",
       "    </tr>\n",
       "    <tr>\n",
       "      <th>378275</th>\n",
       "      <td>1998.0</td>\n",
       "      <td>0</td>\n",
       "      <td>1.0</td>\n",
       "      <td>30</td>\n",
       "      <td>0</td>\n",
       "      <td>0</td>\n",
       "      <td>0</td>\n",
       "      <td>0</td>\n",
       "      <td>0</td>\n",
       "      <td>17</td>\n",
       "      <td>5</td>\n",
       "      <td>3</td>\n",
       "      <td>21.0</td>\n",
       "    </tr>\n",
       "    <tr>\n",
       "      <th>378284</th>\n",
       "      <td>2017.0</td>\n",
       "      <td>0</td>\n",
       "      <td>1.0</td>\n",
       "      <td>40</td>\n",
       "      <td>0</td>\n",
       "      <td>0</td>\n",
       "      <td>0</td>\n",
       "      <td>1</td>\n",
       "      <td>0</td>\n",
       "      <td>6</td>\n",
       "      <td>7</td>\n",
       "      <td>7</td>\n",
       "      <td>21.0</td>\n",
       "    </tr>\n",
       "  </tbody>\n",
       "</table>\n",
       "<p>18766 rows × 13 columns</p>\n",
       "</div>"
      ],
      "text/plain": [
       "        vehicle_year  vehicle_defect  occupant_cnt  posted_speed_limit  \\\n",
       "44            2014.0               0           2.0                  30   \n",
       "51            2006.0               0           1.0                  35   \n",
       "73            2013.0               0           1.0                  35   \n",
       "79            2009.0               0           3.0                  30   \n",
       "88            2018.0               0           1.0                  30   \n",
       "...              ...             ...           ...                 ...   \n",
       "378176        2015.0               0           2.0                  30   \n",
       "378238        2006.0               0           1.0                  30   \n",
       "378266        2005.0               0           1.0                  30   \n",
       "378275        1998.0               0           1.0                  30   \n",
       "378284        2017.0               0           1.0                  40   \n",
       "\n",
       "        weather_condition  lighting_condition  crash_type  \\\n",
       "44                      0                   0           0   \n",
       "51                      0                   0           1   \n",
       "73                      0                   0           1   \n",
       "79                      0                   0           1   \n",
       "88                      0                   0           1   \n",
       "...                   ...                 ...         ...   \n",
       "378176                  0                   0           0   \n",
       "378238                  0                   0           0   \n",
       "378266                  0                   0           1   \n",
       "378275                  0                   0           0   \n",
       "378284                  0                   0           0   \n",
       "\n",
       "        prim_contributory_cause  sec_contributory_cause  crash_hour  \\\n",
       "44                            0                       0          21   \n",
       "51                            0                       0          14   \n",
       "73                            1                       0           8   \n",
       "79                            1                       0          13   \n",
       "88                            3                       0           7   \n",
       "...                         ...                     ...         ...   \n",
       "378176                        1                       0          15   \n",
       "378238                        1                       0          15   \n",
       "378266                        1                       0           8   \n",
       "378275                        0                       0          17   \n",
       "378284                        1                       0           6   \n",
       "\n",
       "        crash_day_of_week  crash_month   age  \n",
       "44                      7            8  21.0  \n",
       "51                      3           11  18.0  \n",
       "73                      1            9  19.0  \n",
       "79                      7           10  21.0  \n",
       "88                      6           10  22.0  \n",
       "...                   ...          ...   ...  \n",
       "378176                  1            7  22.0  \n",
       "378238                  4            9  18.0  \n",
       "378266                  1           12  20.0  \n",
       "378275                  5            3  21.0  \n",
       "378284                  7            7  21.0  \n",
       "\n",
       "[18766 rows x 13 columns]"
      ]
     },
     "execution_count": 202,
     "metadata": {},
     "output_type": "execute_result"
    }
   ],
   "source": [
    "X"
   ]
  },
  {
   "cell_type": "code",
   "execution_count": 203,
   "metadata": {},
   "outputs": [
    {
     "data": {
      "text/plain": [
       "DecisionTreeClassifier(min_samples_leaf=100, random_state=42)"
      ]
     },
     "execution_count": 203,
     "metadata": {},
     "output_type": "execute_result"
    }
   ],
   "source": [
    "tree_clf = DecisionTreeClassifier(random_state=42, min_samples_leaf=100)\n",
    "tree_clf.fit(X_train, y_train)"
   ]
  },
  {
   "cell_type": "code",
   "execution_count": 204,
   "metadata": {},
   "outputs": [
    {
     "name": "stdout",
     "output_type": "stream",
     "text": [
      "Training: 0.97569987210459\n",
      "Testing: 0.9780477408354646\n"
     ]
    }
   ],
   "source": [
    "print('Training:', tree_clf.score(X_train, y_train))\n",
    "print('Testing:', tree_clf.score(X_test, y_test))"
   ]
  },
  {
   "cell_type": "code",
   "execution_count": 205,
   "metadata": {},
   "outputs": [
    {
     "name": "stdout",
     "output_type": "stream",
     "text": [
      "0.0323520464842197 vehicle_year\n",
      "0.0 vehicle_defect\n",
      "0.03457563212220156 occupant_cnt\n",
      "0.028869987245998208 posted_speed_limit\n",
      "0.023917818849466713 weather_condition\n",
      "0.0 lighting_condition\n",
      "0.6239818693928322 crash_type\n",
      "0.0 prim_contributory_cause\n",
      "0.0 sec_contributory_cause\n",
      "0.11802655450155608 crash_hour\n",
      "0.010636655159332981 crash_day_of_week\n",
      "0.06974039882597452 crash_month\n",
      "0.0578990374184181 age\n"
     ]
    }
   ],
   "source": [
    "feature_used = X.columns\n",
    "\n",
    "for fi, feature in zip(tree_clf.feature_importances_, feature_used):\n",
    "    print(fi, feature)\n"
   ]
  },
  {
   "cell_type": "code",
   "execution_count": 52,
   "metadata": {},
   "outputs": [
    {
     "name": "stdout",
     "output_type": "stream",
     "text": [
      "<class 'pandas.core.frame.DataFrame'>\n",
      "Int64Index: 18766 entries, 44 to 378284\n",
      "Data columns (total 51 columns):\n",
      " #   Column                   Non-Null Count  Dtype         \n",
      "---  ------                   --------------  -----         \n",
      " 0   unnamed: 0               18766 non-null  int64         \n",
      " 1   crash_date               18766 non-null  datetime64[ns]\n",
      " 2   unit_no                  18766 non-null  int64         \n",
      " 3   unit_type                18766 non-null  object        \n",
      " 4   make                     18765 non-null  object        \n",
      " 5   model                    18762 non-null  object        \n",
      " 6   lic_plate_state          18223 non-null  object        \n",
      " 7   vehicle_year             18766 non-null  float64       \n",
      " 8   vehicle_defect           18766 non-null  int64         \n",
      " 9   vehicle_type             18766 non-null  object        \n",
      " 10  vehicle_use              18766 non-null  object        \n",
      " 11  maneuver                 18766 non-null  object        \n",
      " 12  occupant_cnt             18766 non-null  float64       \n",
      " 13  first_contact_point      18750 non-null  object        \n",
      " 14  posted_speed_limit       18766 non-null  int64         \n",
      " 15  traffic_control_device   18766 non-null  object        \n",
      " 16  device_condition         18766 non-null  object        \n",
      " 17  weather_condition        18766 non-null  int64         \n",
      " 18  lighting_condition       18766 non-null  object        \n",
      " 19  first_crash_type         18766 non-null  object        \n",
      " 20  trafficway_type          18766 non-null  object        \n",
      " 21  alignment                18766 non-null  object        \n",
      " 22  roadway_surface_cond     18766 non-null  object        \n",
      " 23  road_defect              18766 non-null  object        \n",
      " 24  report_type              18084 non-null  object        \n",
      " 25  crash_type               18766 non-null  int64         \n",
      " 26  damage                   18766 non-null  object        \n",
      " 27  date_police_notified     18766 non-null  object        \n",
      " 28  prim_contributory_cause  18766 non-null  int64         \n",
      " 29  sec_contributory_cause   18766 non-null  int64         \n",
      " 30  num_units                18766 non-null  int64         \n",
      " 31  most_severe_injury       18766 non-null  object        \n",
      " 32  injuries_total           18766 non-null  float64       \n",
      " 33  crash_hour               18766 non-null  int64         \n",
      " 34  crash_day_of_week        18766 non-null  int64         \n",
      " 35  crash_month              18766 non-null  int64         \n",
      " 36  location                 18655 non-null  object        \n",
      " 37  person_id                18766 non-null  object        \n",
      " 38  person_type              18766 non-null  object        \n",
      " 39  state                    18766 non-null  object        \n",
      " 40  sex                      18766 non-null  object        \n",
      " 41  age                      18766 non-null  float64       \n",
      " 42  drivers_license_state    17391 non-null  object        \n",
      " 43  safety_equipment         18766 non-null  object        \n",
      " 44  airbag_deployed          18766 non-null  object        \n",
      " 45  ejection                 18766 non-null  object        \n",
      " 46  driver_action            18766 non-null  object        \n",
      " 47  driver_vision            18766 non-null  object        \n",
      " 48  physical_condition       18766 non-null  object        \n",
      " 49  bac_result               18766 non-null  object        \n",
      " 50  serious_injury           18766 non-null  int64         \n",
      "dtypes: datetime64[ns](1), float64(4), int64(13), object(33)\n",
      "memory usage: 7.4+ MB\n"
     ]
    }
   ],
   "source": [
    "df_accidents.info()"
   ]
  },
  {
   "cell_type": "markdown",
   "metadata": {},
   "source": [
    "## Combine Columns into Categories "
   ]
  },
  {
   "cell_type": "code",
   "execution_count": 150,
   "metadata": {},
   "outputs": [],
   "source": [
    "#py"
   ]
  },
  {
   "cell_type": "markdown",
   "metadata": {},
   "source": [
    "## Train Test Split"
   ]
  },
  {
   "cell_type": "markdown",
   "metadata": {},
   "source": []
  },
  {
   "cell_type": "markdown",
   "metadata": {},
   "source": [
    "# Model 1"
   ]
  },
  {
   "cell_type": "markdown",
   "metadata": {},
   "source": [
    "Justification of Model 1"
   ]
  },
  {
   "cell_type": "code",
   "execution_count": null,
   "metadata": {},
   "outputs": [],
   "source": []
  },
  {
   "cell_type": "code",
   "execution_count": null,
   "metadata": {},
   "outputs": [],
   "source": []
  },
  {
   "cell_type": "markdown",
   "metadata": {},
   "source": [
    "Conclusions from model 1."
   ]
  },
  {
   "cell_type": "markdown",
   "metadata": {},
   "source": [
    "# Model 2"
   ]
  },
  {
   "cell_type": "markdown",
   "metadata": {},
   "source": [
    "Justification of Model 2"
   ]
  },
  {
   "cell_type": "code",
   "execution_count": 206,
   "metadata": {},
   "outputs": [
    {
     "name": "stderr",
     "output_type": "stream",
     "text": [
      "C:\\Users\\Owner\\anaconda3\\envs\\learn-env\\lib\\site-packages\\sklearn\\linear_model\\_logistic.py:762: ConvergenceWarning: lbfgs failed to converge (status=1):\n",
      "STOP: TOTAL NO. of ITERATIONS REACHED LIMIT.\n",
      "\n",
      "Increase the number of iterations (max_iter) or scale the data as shown in:\n",
      "    https://scikit-learn.org/stable/modules/preprocessing.html\n",
      "Please also refer to the documentation for alternative solver options:\n",
      "    https://scikit-learn.org/stable/modules/linear_model.html#logistic-regression\n",
      "  n_iter_i = _check_optimize_result(\n"
     ]
    }
   ],
   "source": [
    "log = LogisticRegression(random_state=101).fit(X_train, y_train)"
   ]
  },
  {
   "cell_type": "code",
   "execution_count": 207,
   "metadata": {},
   "outputs": [
    {
     "name": "stdout",
     "output_type": "stream",
     "text": [
      "Training: 0.97569987210459\n",
      "Testing: 0.9780477408354646\n"
     ]
    }
   ],
   "source": [
    "print('Training:', log.score(X_train, y_train))\n",
    "print('Testing:', log.score(X_test, y_test))"
   ]
  },
  {
   "cell_type": "markdown",
   "metadata": {},
   "source": [
    "Conclusions from model 2."
   ]
  },
  {
   "cell_type": "markdown",
   "metadata": {},
   "source": [
    "# Conclusions "
   ]
  },
  {
   "cell_type": "markdown",
   "metadata": {},
   "source": []
  },
  {
   "cell_type": "markdown",
   "metadata": {},
   "source": []
  },
  {
   "cell_type": "markdown",
   "metadata": {},
   "source": [
    "# Next Steps"
   ]
  },
  {
   "cell_type": "markdown",
   "metadata": {},
   "source": []
  },
  {
   "cell_type": "markdown",
   "metadata": {},
   "source": [
    "# Appendix"
   ]
  },
  {
   "cell_type": "code",
   "execution_count": 151,
   "metadata": {},
   "outputs": [
    {
     "name": "stdout",
     "output_type": "stream",
     "text": [
      "unnamed: 0 : 41 , 58\n",
      "crash_date : 2017-11-14 14:30:00 , 2018-09-23 08:00:00\n",
      "unit_no : 1 , 2\n",
      "unit_type : DRIVER , DRIVER\n",
      "make : TOYOTA MOTOR COMPANY, LTD. , DODGE\n",
      "model : TOYOTA , CHARGER\n",
      "lic_plate_state : IL , IL\n",
      "vehicle_year : 2006.0 , 2013.0\n",
      "vehicle_defect : 0 , 0\n",
      "vehicle_type : PASSENGER , PASSENGER\n",
      "vehicle_use : PERSONAL , PERSONAL\n",
      "maneuver : STRAIGHT AHEAD , STRAIGHT AHEAD\n",
      "occupant_cnt : 1.0 , 1.0\n",
      "first_contact_point : FRONT , FRONT\n",
      "posted_speed_limit : 35 , 35\n",
      "traffic_control_device : STOP SIGN/FLASHER , TRAFFIC SIGNAL\n",
      "device_condition : FUNCTIONING PROPERLY , FUNCTIONING PROPERLY\n",
      "weather_condition : 800 , 800\n",
      "lighting_condition : DAYLIGHT , DAYLIGHT\n",
      "first_crash_type : ANGLE , REAR END\n",
      "trafficway_type : ONE-WAY , DIVIDED - W/MEDIAN BARRIER\n",
      "alignment : STRAIGHT AND LEVEL , STRAIGHT ON GRADE\n",
      "roadway_surface_cond : DRY , DRY\n",
      "road_defect : UNKNOWN , NO DEFECTS\n",
      "report_type : NOT ON SCENE (DESK REPORT) , ON SCENE\n",
      "crash_type : 1 , 1\n",
      "damage : OVER $1,500 , OVER $1,500\n",
      "date_police_notified : 11/14/2017 05:05:00 PM , 09/23/2018 08:00:00 AM\n",
      "prim_contributory_cause : 0 , 1\n",
      "sec_contributory_cause : 0 , 0\n",
      "num_units : 2 , 3\n",
      "most_severe_injury : NO INDICATION OF INJURY , NO INDICATION OF INJURY\n",
      "injuries_total : 0.0 , 0.0\n",
      "crash_hour : 14 , 8\n",
      "crash_day_of_week : 3 , 1\n",
      "crash_month : 11 , 9\n",
      "location : POINT (-87.629561250361 41.762675055593) , POINT (-87.743208098805 41.814841893143)\n",
      "person_id : O261581 , O483995\n",
      "person_type : DRIVER , DRIVER\n",
      "state : IL , IL\n",
      "sex : F , M\n",
      "age : 18.0 , 19.0\n",
      "drivers_license_state : IL , IL\n",
      "safety_equipment : USAGE UNKNOWN , USAGE UNKNOWN\n",
      "airbag_deployed : DEPLOYMENT UNKNOWN , DID NOT DEPLOY\n",
      "ejection : NONE , NONE\n",
      "driver_action : UNKNOWN , FOLLOWED TOO CLOSELY\n",
      "driver_vision : UNKNOWN , UNKNOWN\n",
      "physical_condition : UNKNOWN , NORMAL\n",
      "bac_result : TEST NOT OFFERED , TEST NOT OFFERED\n",
      "injury_class : 0 , 0\n"
     ]
    }
   ],
   "source": [
    "count = 0\n",
    "for column in df_accidents.iloc[0]:\n",
    "    print(df_accidents.columns[count], \":\", column, \",\", df_accidents.iloc[1].iloc[count])\n",
    "    count += 1"
   ]
  }
 ],
 "metadata": {
  "kernelspec": {
   "display_name": "Python (learn-env)",
   "language": "python",
   "name": "learn-env"
  },
  "language_info": {
   "codemirror_mode": {
    "name": "ipython",
    "version": 3
   },
   "file_extension": ".py",
   "mimetype": "text/x-python",
   "name": "python",
   "nbconvert_exporter": "python",
   "pygments_lexer": "ipython3",
   "version": "3.8.5"
  }
 },
 "nbformat": 4,
 "nbformat_minor": 4
}
