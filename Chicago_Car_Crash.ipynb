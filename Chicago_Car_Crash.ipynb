{
 "cells": [
  {
   "cell_type": "code",
   "execution_count": 2,
   "metadata": {},
   "outputs": [],
   "source": [
    "import pandas as pd\n",
    "import numpy as np\n",
    "import math\n",
    "\n",
    "import matplotlib.pyplot as plt\n",
    "import seaborn as sns\n",
    "\n",
    "from sklearn.preprocessing import StandardScaler\n",
    "from sklearn.linear_model import LogisticRegression\n",
    "from sklearn.tree import DecisionTreeClassifier, plot_tree\n",
    "from sklearn.model_selection import train_test_split\n",
    "from sklearn.metrics import accuracy_score, recall_score, precision_score, f1_score\n",
    "from sklearn.metrics import ConfusionMatrixDisplay, confusion_matrix, classification_report\n",
    "from sklearn.metrics import roc_auc_score, RocCurveDisplay, roc_curve, auc"
   ]
  },
  {
   "cell_type": "markdown",
   "metadata": {},
   "source": [
    "# Chicago Car Crash Analysis"
   ]
  },
  {
   "cell_type": "markdown",
   "metadata": {},
   "source": [
    "## Overview \n",
    "add overview "
   ]
  },
  {
   "cell_type": "markdown",
   "metadata": {},
   "source": [
    "## Business Problem\n",
    "\n",
    "We an advertisement company hired by the City of Chicago to create a series of safe driving Public Safety Anncouncements for young adults. \n",
    "\n",
    "These ads will run on social media as well as being posted near high schools and college campuses. \n",
    "\n",
    "In order to figure out what ads will be the most effective, we are examining the causes of accidents for two age ranges: 15-18 year olds and 18-22 year olds. Once we determine the most common causes of accidents, we will be able to tailor our ads for the city, and hopefully reduce accidents for our target group."
   ]
  },
  {
   "cell_type": "markdown",
   "metadata": {},
   "source": [
    "## Data Source \n",
    "\n",
    "Car crash and vehicle accident data was sourced from the [Chicago Data Portal](https://data.cityofchicago.org/Transportation/Traffic-Crashes-People/u6pd-qa9d/about_data). It originates from the [City of Chicago](http://www.chicago.gov/)\n",
    "\n",
    "Data collection began in 2015, but was only adopted by all police departments in 2017. The most recent data entry was from September 26, 2024. "
   ]
  },
  {
   "cell_type": "markdown",
   "metadata": {},
   "source": [
    "## Results\n",
    "\n",
    "add results"
   ]
  },
  {
   "cell_type": "markdown",
   "metadata": {},
   "source": [
    "# Data Import and Cleaning "
   ]
  },
  {
   "cell_type": "code",
   "execution_count": 24,
   "metadata": {},
   "outputs": [
    {
     "ename": "FileNotFoundError",
     "evalue": "[Errno 2] No such file or directory: 'data/Traffic_Crashes_Vehicles.csv'",
     "output_type": "error",
     "traceback": [
      "\u001b[1;31m---------------------------------------------------------------------------\u001b[0m",
      "\u001b[1;31mFileNotFoundError\u001b[0m                         Traceback (most recent call last)",
      "\u001b[1;32m<ipython-input-24-41cfb80869b6>\u001b[0m in \u001b[0;36m<module>\u001b[1;34m\u001b[0m\n\u001b[1;32m----> 1\u001b[1;33m \u001b[0mdf_vehicles\u001b[0m \u001b[1;33m=\u001b[0m \u001b[0mpd\u001b[0m\u001b[1;33m.\u001b[0m\u001b[0mread_csv\u001b[0m\u001b[1;33m(\u001b[0m\u001b[1;34m\"data/Traffic_Crashes_Vehicles.csv\"\u001b[0m\u001b[1;33m)\u001b[0m\u001b[1;33m\u001b[0m\u001b[1;33m\u001b[0m\u001b[0m\n\u001b[0m\u001b[0;32m      2\u001b[0m \u001b[0mdf_people\u001b[0m \u001b[1;33m=\u001b[0m \u001b[0mpd\u001b[0m\u001b[1;33m.\u001b[0m\u001b[0mread_csv\u001b[0m\u001b[1;33m(\u001b[0m\u001b[1;34m\"data/Traffic_Crashes_People.csv\"\u001b[0m\u001b[1;33m)\u001b[0m\u001b[1;33m\u001b[0m\u001b[1;33m\u001b[0m\u001b[0m\n\u001b[0;32m      3\u001b[0m \u001b[0mdf_crashes\u001b[0m \u001b[1;33m=\u001b[0m \u001b[0mpd\u001b[0m\u001b[1;33m.\u001b[0m\u001b[0mread_csv\u001b[0m\u001b[1;33m(\u001b[0m\u001b[1;34m\"data/Traffic_Crashes_Crashes.csv\"\u001b[0m\u001b[1;33m)\u001b[0m\u001b[1;33m\u001b[0m\u001b[1;33m\u001b[0m\u001b[0m\n",
      "\u001b[1;32m~\\anaconda3\\envs\\learn-env\\lib\\site-packages\\pandas\\io\\parsers.py\u001b[0m in \u001b[0;36mread_csv\u001b[1;34m(filepath_or_buffer, sep, delimiter, header, names, index_col, usecols, squeeze, prefix, mangle_dupe_cols, dtype, engine, converters, true_values, false_values, skipinitialspace, skiprows, skipfooter, nrows, na_values, keep_default_na, na_filter, verbose, skip_blank_lines, parse_dates, infer_datetime_format, keep_date_col, date_parser, dayfirst, cache_dates, iterator, chunksize, compression, thousands, decimal, lineterminator, quotechar, quoting, doublequote, escapechar, comment, encoding, dialect, error_bad_lines, warn_bad_lines, delim_whitespace, low_memory, memory_map, float_precision)\u001b[0m\n\u001b[0;32m    684\u001b[0m     )\n\u001b[0;32m    685\u001b[0m \u001b[1;33m\u001b[0m\u001b[0m\n\u001b[1;32m--> 686\u001b[1;33m     \u001b[1;32mreturn\u001b[0m \u001b[0m_read\u001b[0m\u001b[1;33m(\u001b[0m\u001b[0mfilepath_or_buffer\u001b[0m\u001b[1;33m,\u001b[0m \u001b[0mkwds\u001b[0m\u001b[1;33m)\u001b[0m\u001b[1;33m\u001b[0m\u001b[1;33m\u001b[0m\u001b[0m\n\u001b[0m\u001b[0;32m    687\u001b[0m \u001b[1;33m\u001b[0m\u001b[0m\n\u001b[0;32m    688\u001b[0m \u001b[1;33m\u001b[0m\u001b[0m\n",
      "\u001b[1;32m~\\anaconda3\\envs\\learn-env\\lib\\site-packages\\pandas\\io\\parsers.py\u001b[0m in \u001b[0;36m_read\u001b[1;34m(filepath_or_buffer, kwds)\u001b[0m\n\u001b[0;32m    450\u001b[0m \u001b[1;33m\u001b[0m\u001b[0m\n\u001b[0;32m    451\u001b[0m     \u001b[1;31m# Create the parser.\u001b[0m\u001b[1;33m\u001b[0m\u001b[1;33m\u001b[0m\u001b[1;33m\u001b[0m\u001b[0m\n\u001b[1;32m--> 452\u001b[1;33m     \u001b[0mparser\u001b[0m \u001b[1;33m=\u001b[0m \u001b[0mTextFileReader\u001b[0m\u001b[1;33m(\u001b[0m\u001b[0mfp_or_buf\u001b[0m\u001b[1;33m,\u001b[0m \u001b[1;33m**\u001b[0m\u001b[0mkwds\u001b[0m\u001b[1;33m)\u001b[0m\u001b[1;33m\u001b[0m\u001b[1;33m\u001b[0m\u001b[0m\n\u001b[0m\u001b[0;32m    453\u001b[0m \u001b[1;33m\u001b[0m\u001b[0m\n\u001b[0;32m    454\u001b[0m     \u001b[1;32mif\u001b[0m \u001b[0mchunksize\u001b[0m \u001b[1;32mor\u001b[0m \u001b[0miterator\u001b[0m\u001b[1;33m:\u001b[0m\u001b[1;33m\u001b[0m\u001b[1;33m\u001b[0m\u001b[0m\n",
      "\u001b[1;32m~\\anaconda3\\envs\\learn-env\\lib\\site-packages\\pandas\\io\\parsers.py\u001b[0m in \u001b[0;36m__init__\u001b[1;34m(self, f, engine, **kwds)\u001b[0m\n\u001b[0;32m    944\u001b[0m             \u001b[0mself\u001b[0m\u001b[1;33m.\u001b[0m\u001b[0moptions\u001b[0m\u001b[1;33m[\u001b[0m\u001b[1;34m\"has_index_names\"\u001b[0m\u001b[1;33m]\u001b[0m \u001b[1;33m=\u001b[0m \u001b[0mkwds\u001b[0m\u001b[1;33m[\u001b[0m\u001b[1;34m\"has_index_names\"\u001b[0m\u001b[1;33m]\u001b[0m\u001b[1;33m\u001b[0m\u001b[1;33m\u001b[0m\u001b[0m\n\u001b[0;32m    945\u001b[0m \u001b[1;33m\u001b[0m\u001b[0m\n\u001b[1;32m--> 946\u001b[1;33m         \u001b[0mself\u001b[0m\u001b[1;33m.\u001b[0m\u001b[0m_make_engine\u001b[0m\u001b[1;33m(\u001b[0m\u001b[0mself\u001b[0m\u001b[1;33m.\u001b[0m\u001b[0mengine\u001b[0m\u001b[1;33m)\u001b[0m\u001b[1;33m\u001b[0m\u001b[1;33m\u001b[0m\u001b[0m\n\u001b[0m\u001b[0;32m    947\u001b[0m \u001b[1;33m\u001b[0m\u001b[0m\n\u001b[0;32m    948\u001b[0m     \u001b[1;32mdef\u001b[0m \u001b[0mclose\u001b[0m\u001b[1;33m(\u001b[0m\u001b[0mself\u001b[0m\u001b[1;33m)\u001b[0m\u001b[1;33m:\u001b[0m\u001b[1;33m\u001b[0m\u001b[1;33m\u001b[0m\u001b[0m\n",
      "\u001b[1;32m~\\anaconda3\\envs\\learn-env\\lib\\site-packages\\pandas\\io\\parsers.py\u001b[0m in \u001b[0;36m_make_engine\u001b[1;34m(self, engine)\u001b[0m\n\u001b[0;32m   1176\u001b[0m     \u001b[1;32mdef\u001b[0m \u001b[0m_make_engine\u001b[0m\u001b[1;33m(\u001b[0m\u001b[0mself\u001b[0m\u001b[1;33m,\u001b[0m \u001b[0mengine\u001b[0m\u001b[1;33m=\u001b[0m\u001b[1;34m\"c\"\u001b[0m\u001b[1;33m)\u001b[0m\u001b[1;33m:\u001b[0m\u001b[1;33m\u001b[0m\u001b[1;33m\u001b[0m\u001b[0m\n\u001b[0;32m   1177\u001b[0m         \u001b[1;32mif\u001b[0m \u001b[0mengine\u001b[0m \u001b[1;33m==\u001b[0m \u001b[1;34m\"c\"\u001b[0m\u001b[1;33m:\u001b[0m\u001b[1;33m\u001b[0m\u001b[1;33m\u001b[0m\u001b[0m\n\u001b[1;32m-> 1178\u001b[1;33m             \u001b[0mself\u001b[0m\u001b[1;33m.\u001b[0m\u001b[0m_engine\u001b[0m \u001b[1;33m=\u001b[0m \u001b[0mCParserWrapper\u001b[0m\u001b[1;33m(\u001b[0m\u001b[0mself\u001b[0m\u001b[1;33m.\u001b[0m\u001b[0mf\u001b[0m\u001b[1;33m,\u001b[0m \u001b[1;33m**\u001b[0m\u001b[0mself\u001b[0m\u001b[1;33m.\u001b[0m\u001b[0moptions\u001b[0m\u001b[1;33m)\u001b[0m\u001b[1;33m\u001b[0m\u001b[1;33m\u001b[0m\u001b[0m\n\u001b[0m\u001b[0;32m   1179\u001b[0m         \u001b[1;32melse\u001b[0m\u001b[1;33m:\u001b[0m\u001b[1;33m\u001b[0m\u001b[1;33m\u001b[0m\u001b[0m\n\u001b[0;32m   1180\u001b[0m             \u001b[1;32mif\u001b[0m \u001b[0mengine\u001b[0m \u001b[1;33m==\u001b[0m \u001b[1;34m\"python\"\u001b[0m\u001b[1;33m:\u001b[0m\u001b[1;33m\u001b[0m\u001b[1;33m\u001b[0m\u001b[0m\n",
      "\u001b[1;32m~\\anaconda3\\envs\\learn-env\\lib\\site-packages\\pandas\\io\\parsers.py\u001b[0m in \u001b[0;36m__init__\u001b[1;34m(self, src, **kwds)\u001b[0m\n\u001b[0;32m   2006\u001b[0m         \u001b[0mkwds\u001b[0m\u001b[1;33m[\u001b[0m\u001b[1;34m\"usecols\"\u001b[0m\u001b[1;33m]\u001b[0m \u001b[1;33m=\u001b[0m \u001b[0mself\u001b[0m\u001b[1;33m.\u001b[0m\u001b[0musecols\u001b[0m\u001b[1;33m\u001b[0m\u001b[1;33m\u001b[0m\u001b[0m\n\u001b[0;32m   2007\u001b[0m \u001b[1;33m\u001b[0m\u001b[0m\n\u001b[1;32m-> 2008\u001b[1;33m         \u001b[0mself\u001b[0m\u001b[1;33m.\u001b[0m\u001b[0m_reader\u001b[0m \u001b[1;33m=\u001b[0m \u001b[0mparsers\u001b[0m\u001b[1;33m.\u001b[0m\u001b[0mTextReader\u001b[0m\u001b[1;33m(\u001b[0m\u001b[0msrc\u001b[0m\u001b[1;33m,\u001b[0m \u001b[1;33m**\u001b[0m\u001b[0mkwds\u001b[0m\u001b[1;33m)\u001b[0m\u001b[1;33m\u001b[0m\u001b[1;33m\u001b[0m\u001b[0m\n\u001b[0m\u001b[0;32m   2009\u001b[0m         \u001b[0mself\u001b[0m\u001b[1;33m.\u001b[0m\u001b[0munnamed_cols\u001b[0m \u001b[1;33m=\u001b[0m \u001b[0mself\u001b[0m\u001b[1;33m.\u001b[0m\u001b[0m_reader\u001b[0m\u001b[1;33m.\u001b[0m\u001b[0munnamed_cols\u001b[0m\u001b[1;33m\u001b[0m\u001b[1;33m\u001b[0m\u001b[0m\n\u001b[0;32m   2010\u001b[0m \u001b[1;33m\u001b[0m\u001b[0m\n",
      "\u001b[1;32mpandas\\_libs\\parsers.pyx\u001b[0m in \u001b[0;36mpandas._libs.parsers.TextReader.__cinit__\u001b[1;34m()\u001b[0m\n",
      "\u001b[1;32mpandas\\_libs\\parsers.pyx\u001b[0m in \u001b[0;36mpandas._libs.parsers.TextReader._setup_parser_source\u001b[1;34m()\u001b[0m\n",
      "\u001b[1;31mFileNotFoundError\u001b[0m: [Errno 2] No such file or directory: 'data/Traffic_Crashes_Vehicles.csv'"
     ]
    }
   ],
   "source": [
    "df_vehicles = pd.read_csv(\"data/Traffic_Crashes_Vehicles.csv\")\n",
    "df_people = pd.read_csv(\"data/Traffic_Crashes_People.csv\")\n",
    "df_crashes = pd.read_csv(\"data/Traffic_Crashes_Crashes.csv\")"
   ]
  },
  {
   "cell_type": "markdown",
   "metadata": {},
   "source": [
    "## Merge Dataframes\n",
    "\n",
    "First we sample 300,000 crash reports, then we merge the vehicle and people involved. "
   ]
  },
  {
   "cell_type": "code",
   "execution_count": 7,
   "metadata": {},
   "outputs": [
    {
     "ename": "NameError",
     "evalue": "name 'df_vehicles' is not defined",
     "output_type": "error",
     "traceback": [
      "\u001b[1;31m---------------------------------------------------------------------------\u001b[0m",
      "\u001b[1;31mNameError\u001b[0m                                 Traceback (most recent call last)",
      "\u001b[1;32m<ipython-input-7-1bf0d21c650c>\u001b[0m in \u001b[0;36m<module>\u001b[1;34m\u001b[0m\n\u001b[0;32m      1\u001b[0m \u001b[1;31m#Random sample of vehicles\u001b[0m\u001b[1;33m\u001b[0m\u001b[1;33m\u001b[0m\u001b[1;33m\u001b[0m\u001b[0m\n\u001b[1;32m----> 2\u001b[1;33m \u001b[0mdf_accidents\u001b[0m \u001b[1;33m=\u001b[0m \u001b[0mdf_vehicles\u001b[0m\u001b[1;33m.\u001b[0m\u001b[0msample\u001b[0m\u001b[1;33m(\u001b[0m\u001b[0mn\u001b[0m\u001b[1;33m=\u001b[0m\u001b[1;36m300000\u001b[0m\u001b[1;33m,\u001b[0m \u001b[0mrandom_state\u001b[0m\u001b[1;33m=\u001b[0m\u001b[1;36m42\u001b[0m\u001b[1;33m)\u001b[0m\u001b[1;33m\u001b[0m\u001b[1;33m\u001b[0m\u001b[0m\n\u001b[0m",
      "\u001b[1;31mNameError\u001b[0m: name 'df_vehicles' is not defined"
     ]
    }
   ],
   "source": [
    "#Random sample of vehicles \n",
    "df_accidents = df_vehicles.sample(n=300000, random_state=42)"
   ]
  },
  {
   "cell_type": "code",
   "execution_count": 8,
   "metadata": {},
   "outputs": [
    {
     "ename": "NameError",
     "evalue": "name 'df_accidents' is not defined",
     "output_type": "error",
     "traceback": [
      "\u001b[1;31m---------------------------------------------------------------------------\u001b[0m",
      "\u001b[1;31mNameError\u001b[0m                                 Traceback (most recent call last)",
      "\u001b[1;32m<ipython-input-8-c483ca8debce>\u001b[0m in \u001b[0;36m<module>\u001b[1;34m\u001b[0m\n\u001b[1;32m----> 1\u001b[1;33m \u001b[0mdf_accidents\u001b[0m\u001b[1;33m.\u001b[0m\u001b[0minfo\u001b[0m\u001b[1;33m(\u001b[0m\u001b[1;33m)\u001b[0m\u001b[1;33m\u001b[0m\u001b[1;33m\u001b[0m\u001b[0m\n\u001b[0m",
      "\u001b[1;31mNameError\u001b[0m: name 'df_accidents' is not defined"
     ]
    }
   ],
   "source": [
    "df_accidents.info()"
   ]
  },
  {
   "cell_type": "code",
   "execution_count": 9,
   "metadata": {},
   "outputs": [
    {
     "ename": "NameError",
     "evalue": "name 'df_accidents' is not defined",
     "output_type": "error",
     "traceback": [
      "\u001b[1;31m---------------------------------------------------------------------------\u001b[0m",
      "\u001b[1;31mNameError\u001b[0m                                 Traceback (most recent call last)",
      "\u001b[1;32m<ipython-input-9-ae88944f3a42>\u001b[0m in \u001b[0;36m<module>\u001b[1;34m\u001b[0m\n\u001b[0;32m      1\u001b[0m \u001b[1;31m#Then we can add the crash report data\u001b[0m\u001b[1;33m\u001b[0m\u001b[1;33m\u001b[0m\u001b[1;33m\u001b[0m\u001b[0m\n\u001b[1;32m----> 2\u001b[1;33m \u001b[0mdf_accidents\u001b[0m \u001b[1;33m=\u001b[0m \u001b[0mdf_accidents\u001b[0m\u001b[1;33m.\u001b[0m\u001b[0mmerge\u001b[0m\u001b[1;33m(\u001b[0m\u001b[0mdf_crashes\u001b[0m\u001b[1;33m,\u001b[0m \u001b[0mhow\u001b[0m\u001b[1;33m=\u001b[0m\u001b[1;34m\"inner\"\u001b[0m\u001b[1;33m,\u001b[0m \u001b[0mon\u001b[0m\u001b[1;33m=\u001b[0m\u001b[1;33m[\u001b[0m\u001b[1;34m\"CRASH_RECORD_ID\"\u001b[0m\u001b[1;33m,\u001b[0m \u001b[1;34m\"CRASH_DATE\"\u001b[0m\u001b[1;33m]\u001b[0m\u001b[1;33m)\u001b[0m\u001b[1;33m\u001b[0m\u001b[1;33m\u001b[0m\u001b[0m\n\u001b[0m",
      "\u001b[1;31mNameError\u001b[0m: name 'df_accidents' is not defined"
     ]
    }
   ],
   "source": [
    "#Then we can add the crash report data \n",
    "df_accidents = df_accidents.merge(df_crashes, how=\"inner\", on=[\"CRASH_RECORD_ID\", \"CRASH_DATE\"])"
   ]
  },
  {
   "cell_type": "code",
   "execution_count": 10,
   "metadata": {},
   "outputs": [
    {
     "ename": "NameError",
     "evalue": "name 'df_accidents' is not defined",
     "output_type": "error",
     "traceback": [
      "\u001b[1;31m---------------------------------------------------------------------------\u001b[0m",
      "\u001b[1;31mNameError\u001b[0m                                 Traceback (most recent call last)",
      "\u001b[1;32m<ipython-input-10-c483ca8debce>\u001b[0m in \u001b[0;36m<module>\u001b[1;34m\u001b[0m\n\u001b[1;32m----> 1\u001b[1;33m \u001b[0mdf_accidents\u001b[0m\u001b[1;33m.\u001b[0m\u001b[0minfo\u001b[0m\u001b[1;33m(\u001b[0m\u001b[1;33m)\u001b[0m\u001b[1;33m\u001b[0m\u001b[1;33m\u001b[0m\u001b[0m\n\u001b[0m",
      "\u001b[1;31mNameError\u001b[0m: name 'df_accidents' is not defined"
     ]
    }
   ],
   "source": [
    "df_accidents.info()"
   ]
  },
  {
   "cell_type": "code",
   "execution_count": 11,
   "metadata": {},
   "outputs": [
    {
     "ename": "NameError",
     "evalue": "name 'df_accidents' is not defined",
     "output_type": "error",
     "traceback": [
      "\u001b[1;31m---------------------------------------------------------------------------\u001b[0m",
      "\u001b[1;31mNameError\u001b[0m                                 Traceback (most recent call last)",
      "\u001b[1;32m<ipython-input-11-6fa6d108d906>\u001b[0m in \u001b[0;36m<module>\u001b[1;34m\u001b[0m\n\u001b[0;32m      1\u001b[0m \u001b[1;31m#every person and vehicle should have a match for the record ID, vehicle ID, and crash date\u001b[0m\u001b[1;33m\u001b[0m\u001b[1;33m\u001b[0m\u001b[1;33m\u001b[0m\u001b[0m\n\u001b[0;32m      2\u001b[0m \u001b[1;31m#This makes the dataframe larger as multiple people are involved in each accident\u001b[0m\u001b[1;33m\u001b[0m\u001b[1;33m\u001b[0m\u001b[1;33m\u001b[0m\u001b[0m\n\u001b[1;32m----> 3\u001b[1;33m \u001b[0mdf_accidents\u001b[0m \u001b[1;33m=\u001b[0m \u001b[0mdf_accidents\u001b[0m\u001b[1;33m.\u001b[0m\u001b[0mmerge\u001b[0m\u001b[1;33m(\u001b[0m\u001b[0mdf_people\u001b[0m\u001b[1;33m,\u001b[0m \u001b[0mhow\u001b[0m\u001b[1;33m=\u001b[0m\u001b[1;34m\"inner\"\u001b[0m\u001b[1;33m,\u001b[0m \u001b[0mon\u001b[0m\u001b[1;33m=\u001b[0m\u001b[1;33m[\u001b[0m\u001b[1;34m\"CRASH_RECORD_ID\"\u001b[0m\u001b[1;33m,\u001b[0m \u001b[1;34m\"VEHICLE_ID\"\u001b[0m\u001b[1;33m,\u001b[0m \u001b[1;34m\"CRASH_DATE\"\u001b[0m\u001b[1;33m]\u001b[0m\u001b[1;33m)\u001b[0m\u001b[1;33m\u001b[0m\u001b[1;33m\u001b[0m\u001b[0m\n\u001b[0m",
      "\u001b[1;31mNameError\u001b[0m: name 'df_accidents' is not defined"
     ]
    }
   ],
   "source": [
    "#every person and vehicle should have a match for the record ID, vehicle ID, and crash date\n",
    "#This makes the dataframe larger as multiple people are involved in each accident \n",
    "df_accidents = df_accidents.merge(df_people, how=\"inner\", on=[\"CRASH_RECORD_ID\", \"VEHICLE_ID\", \"CRASH_DATE\"])"
   ]
  },
  {
   "cell_type": "code",
   "execution_count": 12,
   "metadata": {},
   "outputs": [
    {
     "ename": "NameError",
     "evalue": "name 'df_accidents' is not defined",
     "output_type": "error",
     "traceback": [
      "\u001b[1;31m---------------------------------------------------------------------------\u001b[0m",
      "\u001b[1;31mNameError\u001b[0m                                 Traceback (most recent call last)",
      "\u001b[1;32m<ipython-input-12-c483ca8debce>\u001b[0m in \u001b[0;36m<module>\u001b[1;34m\u001b[0m\n\u001b[1;32m----> 1\u001b[1;33m \u001b[0mdf_accidents\u001b[0m\u001b[1;33m.\u001b[0m\u001b[0minfo\u001b[0m\u001b[1;33m(\u001b[0m\u001b[1;33m)\u001b[0m\u001b[1;33m\u001b[0m\u001b[1;33m\u001b[0m\u001b[0m\n\u001b[0m",
      "\u001b[1;31mNameError\u001b[0m: name 'df_accidents' is not defined"
     ]
    }
   ],
   "source": [
    "df_accidents.info()"
   ]
  },
  {
   "cell_type": "markdown",
   "metadata": {},
   "source": [
    "The dataframe gets larger when merging in the people, as there are sometimes more than one person involved in an accident.  "
   ]
  },
  {
   "cell_type": "markdown",
   "metadata": {},
   "source": [
    "# THIS IS FOR WORKING PURPOSES. \n",
    "\n",
    "# USE THIS TO IMPORT DF WITHOUT RUNNING THE CELLS ABOVE."
   ]
  },
  {
   "cell_type": "markdown",
   "metadata": {},
   "source": [
    "## Export Final"
   ]
  },
  {
   "cell_type": "code",
   "execution_count": 13,
   "metadata": {},
   "outputs": [],
   "source": [
    "df_accidents.to_csv('data/Final_Data.csv')"
   ]
  },
  {
   "cell_type": "markdown",
   "metadata": {},
   "source": [
    "## Read Final"
   ]
  },
  {
   "cell_type": "code",
   "execution_count": 304,
   "metadata": {},
   "outputs": [
    {
     "name": "stderr",
     "output_type": "stream",
     "text": [
      "/var/folders/4f/cr2zm2px70q9hrgj23zmw7_r0000gn/T/ipykernel_61942/2274169522.py:1: DtypeWarning: Columns (19,21,40,41,42,44,48,49,50,55,58,59,61,71,102,123,143) have mixed types. Specify dtype option on import or set low_memory=False.\n",
      "  df_accidents = pd.read_csv(\"data/Final_Data.csv\")\n"
     ]
    }
   ],
   "source": [
    "df_accidents = pd.read_csv(\"data/Final_Data.csv\")"
   ]
  },
  {
   "cell_type": "code",
   "execution_count": 305,
   "metadata": {},
   "outputs": [],
   "source": [
    "#Sets all column names to lowercase\n",
    "df_accidents.columns = [column.lower() for column in df_accidents.columns]"
   ]
  },
  {
   "cell_type": "markdown",
   "metadata": {},
   "source": [
    "# ^^^^^ DELETE BEFORE SUBMISSION"
   ]
  },
  {
   "cell_type": "code",
   "execution_count": 306,
   "metadata": {},
   "outputs": [
    {
     "name": "stdout",
     "output_type": "stream",
     "text": [
      "<class 'pandas.core.frame.DataFrame'>\n",
      "RangeIndex: 324360 entries, 0 to 324359\n",
      "Columns: 144 entries, unnamed: 0 to cell_phone_use\n",
      "dtypes: datetime64[ns](1), float64(24), int64(9), object(110)\n",
      "memory usage: 356.4+ MB\n"
     ]
    }
   ],
   "source": [
    "#have the crash date as a datetime object. \n",
    "df_accidents['crash_date'] = pd.to_datetime(df_accidents['crash_date'], format=\"%m/%d/%Y %I:%M:%S %p\")\n",
    "\n",
    "df_accidents.info()"
   ]
  },
  {
   "cell_type": "markdown",
   "metadata": {},
   "source": [
    "## Drop Unnessisary Columns"
   ]
  },
  {
   "cell_type": "code",
   "execution_count": 307,
   "metadata": {},
   "outputs": [],
   "source": [
    "#remove columns with less than 50% of data present \n",
    "df_accidents.dropna(axis=1, thresh = int(0.5*df_accidents.shape[0]), inplace=True)"
   ]
  },
  {
   "cell_type": "code",
   "execution_count": 308,
   "metadata": {},
   "outputs": [],
   "source": [
    "cols_to_drop = [\n",
    "#remove unessisary id columns now the data is joined \n",
    "'vehicle_id', 'crash_record_id', 'crash_unit_id',\n",
    "#drop LAT and LONG (we have location)\n",
    "'latitude', 'longitude',\n",
    "#...also drop streets and directions. \n",
    "'street_no', 'street_direction', 'street_name', 'travel_direction', \n",
    "#police specific \n",
    "'beat_of_occurrence', \n",
    "#everything is chicago \n",
    "'city', 'zipcode', \n",
    "#covered by MOST_SEVERE_INJURY\n",
    "'injury_classification',\n",
    "#many NAN\n",
    "'injuries_unknown'\n",
    "]\n",
    "\n",
    "df_accidents.drop(columns=cols_to_drop, inplace=True)\n"
   ]
  },
  {
   "cell_type": "code",
   "execution_count": 309,
   "metadata": {},
   "outputs": [],
   "source": [
    "#map the injuries to a number \n",
    "\n",
    "def weather_code(weather):\n",
    "    \"\"\"\n",
    "    Codes are based on https://openweathermap.org/weather-conditions\n",
    "    0 - Unknown \n",
    "    500 - Rain\n",
    "    600 - Snow\n",
    "    700 - 'Atmosphere' (Fog, Dust, Haze) \n",
    "    800 - Clear\n",
    "    801 - Clouds \n",
    "\n",
    "    \"\"\"\n",
    "    if weather == 'CLEAR':\n",
    "        return 800\n",
    "    elif weather == 'CLOUDY/OVERCAST':\n",
    "        return 801\n",
    "    elif weather == 'RAIN':\n",
    "        return 500\n",
    "    elif weather == 'SNOW' or weather == 'FREEZING RAIN/DRIZZLE' or weather== 'SLEET/HAIL' or weather == 'BLOWING SNOW':\n",
    "        return 600\n",
    "    elif weather == 'FOG/SMOKE/HAZE' or weather == 'BLOWING SAND/SOIL/DIRT':\n",
    "        return 700\n",
    "    else:\n",
    "        return 0\n",
    "    \n",
    "df_accidents['weather_condition'] = df_accidents['weather_condition'].map(weather_code)"
   ]
  },
  {
   "cell_type": "code",
   "execution_count": 310,
   "metadata": {},
   "outputs": [],
   "source": [
    "#map the injuries to a number \n",
    "\n",
    "def injury_severity(severity):\n",
    "    \"\"\"\n",
    "    Injuties are categorized on a scale of 0 to X\n",
    "    0 - No Indication of Injury \n",
    "    1 - REPORTED, NOT EVIDENT \n",
    "    2 - NONincapacitating Injury \n",
    "    3 - incapacitating Injury \n",
    "    4 - Fatal Injury \n",
    "    \"\"\"\n",
    "    if severity == 'NO INDICATION OF INJURY':\n",
    "        return 0\n",
    "    elif severity == 'REPORTED, NOT EVIDENT':\n",
    "        return 1\n",
    "    elif severity == 'NONINCAPACITATING INJURY':\n",
    "        return 2\n",
    "    elif severity == 'INCAPACITATING INJURY':\n",
    "        return 3\n",
    "    elif severity == 'FATAL':\n",
    "        return 4\n",
    "    else:\n",
    "        return 0\n",
    "    \n",
    "\n",
    "df_accidents['injury_class'] = df_accidents['most_severe_injury'].map(injury_severity)"
   ]
  },
  {
   "cell_type": "code",
   "execution_count": 311,
   "metadata": {},
   "outputs": [],
   "source": [
    "#map the injuries to a number \n",
    "\n",
    "def crash_severity(severity):\n",
    "    \"\"\"\n",
    "    Injuties are categorized on a scale of 0 to X\n",
    "    0 - No Injury / Drive Away \n",
    "    1 - Injury and / or tow  \n",
    "    \"\"\"\n",
    "    if severity == 'NO INJURY / DRIVE AWAY':\n",
    "        return 0\n",
    "    else:\n",
    "        return 1\n",
    "    \n",
    "\n",
    "df_accidents['crash_type'] = df_accidents['crash_type'].map(crash_severity)"
   ]
  },
  {
   "cell_type": "code",
   "execution_count": 312,
   "metadata": {},
   "outputs": [],
   "source": [
    "#drop the columns \n",
    "in_cols_to_drop = [\n",
    "#remove counts of each injury \n",
    "'injuries_fatal', 'injuries_incapacitating', 'injuries_non_incapacitating',\n",
    "'injuries_reported_not_evident', 'injuries_no_indication'\n",
    "]\n",
    "\n",
    "df_accidents.drop(columns=in_cols_to_drop, inplace=True)"
   ]
  },
  {
   "cell_type": "code",
   "execution_count": 313,
   "metadata": {
    "scrolled": false
   },
   "outputs": [
    {
     "name": "stdout",
     "output_type": "stream",
     "text": [
      "unnamed: 0 : 0 , 1\n",
      "crash_date : 2022-05-24 20:23:00 , 2019-09-28 13:45:00\n",
      "unit_no : 1 , 2\n",
      "unit_type : DRIVER , DRIVER\n",
      "make : TOYOTA , VOLKSWAGEN\n",
      "model : CAMRY , JETTA\n",
      "lic_plate_state : IL , IL\n",
      "vehicle_year : 2018.0 , 2012.0\n",
      "vehicle_defect : UNKNOWN , UNKNOWN\n",
      "vehicle_type : PASSENGER , PASSENGER\n",
      "vehicle_use : PERSONAL , PERSONAL\n",
      "maneuver : TURNING LEFT , STRAIGHT AHEAD\n",
      "occupant_cnt : 1.0 , 1.0\n",
      "first_contact_point : FRONT , ROOF\n",
      "posted_speed_limit : 30 , 20\n",
      "traffic_control_device : STOP SIGN/FLASHER , NO CONTROLS\n",
      "device_condition : FUNCTIONING PROPERLY , NO CONTROLS\n",
      "weather_condition : 800 , 800\n",
      "lighting_condition : DUSK , DAYLIGHT\n",
      "first_crash_type : PEDALCYCLIST , SIDESWIPE OPPOSITE DIRECTION\n",
      "trafficway_type : FOUR WAY , OTHER\n",
      "alignment : STRAIGHT AND LEVEL , STRAIGHT AND LEVEL\n",
      "roadway_surface_cond : DRY , DRY\n",
      "road_defect : NO DEFECTS , UNKNOWN\n",
      "report_type : ON SCENE , NOT ON SCENE (DESK REPORT)\n",
      "crash_type : 1 , 0\n",
      "damage : $500 OR LESS , OVER $1,500\n",
      "date_police_notified : 05/24/2022 08:25:00 PM , 09/28/2019 03:45:00 PM\n",
      "prim_contributory_cause : UNABLE TO DETERMINE , UNABLE TO DETERMINE\n",
      "sec_contributory_cause : NOT APPLICABLE , UNABLE TO DETERMINE\n",
      "num_units : 2 , 2\n",
      "most_severe_injury : NONINCAPACITATING INJURY , NO INDICATION OF INJURY\n",
      "injuries_total : 1.0 , 0.0\n",
      "crash_hour : 20 , 13\n",
      "crash_day_of_week : 3 , 7\n",
      "crash_month : 5 , 9\n",
      "location : POINT (-87.705636375404 41.954044946135) , POINT (-87.576345488656 41.77336021958)\n",
      "person_id : O1344100 , O748747\n",
      "person_type : DRIVER , DRIVER\n",
      "state : IL , IL\n",
      "sex : F , M\n",
      "age : 40.0 , 23.0\n",
      "drivers_license_state : IL , IL\n",
      "safety_equipment : USAGE UNKNOWN , SAFETY BELT USED\n",
      "airbag_deployed : DID NOT DEPLOY , DID NOT DEPLOY\n",
      "ejection : NONE , NONE\n",
      "driver_action : UNKNOWN , UNKNOWN\n",
      "driver_vision : UNKNOWN , NOT OBSCURED\n",
      "physical_condition : NORMAL , NORMAL\n",
      "bac_result : TEST NOT OFFERED , TEST NOT OFFERED\n",
      "injury_class : 2 , 0\n"
     ]
    }
   ],
   "source": [
    "count = 0\n",
    "for column in df_accidents.iloc[0]:\n",
    "    print(df_accidents.columns[count], \":\", column, \",\", df_accidents.iloc[1].iloc[count])\n",
    "    count += 1"
   ]
  },
  {
   "cell_type": "code",
   "execution_count": 317,
   "metadata": {},
   "outputs": [
    {
     "name": "stdout",
     "output_type": "stream",
     "text": [
      "                    unnamed: 0   unit_no  vehicle_year  occupant_cnt  \\\n",
      "unnamed: 0            1.000000 -0.000147      0.000440      0.005952   \n",
      "unit_no              -0.000147  1.000000     -0.007320      0.103042   \n",
      "vehicle_year          0.000440 -0.007320      1.000000     -0.004234   \n",
      "occupant_cnt          0.005952  0.103042     -0.004234      1.000000   \n",
      "posted_speed_limit    0.001071  0.073894     -0.000297      0.029766   \n",
      "weather_condition     0.004400  0.030809     -0.001856      0.034301   \n",
      "crash_type           -0.000479  0.061903     -0.005193      0.090895   \n",
      "num_units             0.000013  0.276457     -0.000940      0.016165   \n",
      "injuries_total       -0.004392  0.112213     -0.003746      0.193060   \n",
      "crash_hour            0.003331  0.040057      0.001082     -0.001259   \n",
      "crash_day_of_week     0.002641  0.009996      0.001206      0.001301   \n",
      "crash_month          -0.001284  0.007062     -0.003140     -0.001107   \n",
      "age                  -0.002107  0.020860     -0.004818     -0.195805   \n",
      "injury_class         -0.001069  0.085657     -0.003788      0.113680   \n",
      "\n",
      "                    posted_speed_limit  weather_condition  crash_type  \\\n",
      "unnamed: 0                    0.001071           0.004400   -0.000479   \n",
      "unit_no                       0.073894           0.030809    0.061903   \n",
      "vehicle_year                 -0.000297          -0.001856   -0.005193   \n",
      "occupant_cnt                  0.029766           0.034301    0.090895   \n",
      "posted_speed_limit            1.000000           0.011298    0.105353   \n",
      "weather_condition             0.011298           1.000000    0.051423   \n",
      "crash_type                    0.105353           0.051423    1.000000   \n",
      "num_units                     0.058900           0.021796    0.174065   \n",
      "injuries_total                0.067660           0.035083    0.545765   \n",
      "crash_hour                    0.016931          -0.003896   -0.038117   \n",
      "crash_day_of_week             0.006228          -0.003218   -0.013663   \n",
      "crash_month                   0.010468           0.014875    0.012917   \n",
      "age                          -0.033774          -0.004865   -0.087319   \n",
      "injury_class                  0.068321           0.040924    0.655857   \n",
      "\n",
      "                    num_units  injuries_total  crash_hour  crash_day_of_week  \\\n",
      "unnamed: 0           0.000013       -0.004392    0.003331           0.002641   \n",
      "unit_no              0.276457        0.112213    0.040057           0.009996   \n",
      "vehicle_year        -0.000940       -0.003746    0.001082           0.001206   \n",
      "occupant_cnt         0.016165        0.193060   -0.001259           0.001301   \n",
      "posted_speed_limit   0.058900        0.067660    0.016931           0.006228   \n",
      "weather_condition    0.021796        0.035083   -0.003896          -0.003218   \n",
      "crash_type           0.174065        0.545765   -0.038117          -0.013663   \n",
      "num_units            1.000000        0.183556    0.010312           0.004859   \n",
      "injuries_total       0.183556        1.000000   -0.001669          -0.010967   \n",
      "crash_hour           0.010312       -0.001669    1.000000           0.064921   \n",
      "crash_day_of_week    0.004859       -0.010967    0.064921           1.000000   \n",
      "crash_month          0.001373        0.012727    0.007104          -0.000148   \n",
      "age                 -0.026600       -0.072697   -0.015620           0.002607   \n",
      "injury_class         0.149790        0.744345   -0.003735          -0.013327   \n",
      "\n",
      "                    crash_month       age  injury_class  \n",
      "unnamed: 0            -0.001284 -0.002107     -0.001069  \n",
      "unit_no                0.007062  0.020860      0.085657  \n",
      "vehicle_year          -0.003140 -0.004818     -0.003788  \n",
      "occupant_cnt          -0.001107 -0.195805      0.113680  \n",
      "posted_speed_limit     0.010468 -0.033774      0.068321  \n",
      "weather_condition      0.014875 -0.004865      0.040924  \n",
      "crash_type             0.012917 -0.087319      0.655857  \n",
      "num_units              0.001373 -0.026600      0.149790  \n",
      "injuries_total         0.012727 -0.072697      0.744345  \n",
      "crash_hour             0.007104 -0.015620     -0.003735  \n",
      "crash_day_of_week     -0.000148  0.002607     -0.013327  \n",
      "crash_month            1.000000  0.002759      0.013411  \n",
      "age                    0.002759  1.000000     -0.051284  \n",
      "injury_class           0.013411 -0.051284      1.000000  \n"
     ]
    }
   ],
   "source": [
    "matrix = df_accidents.corr(numeric_only=True)\n",
    "print(matrix)"
   ]
  },
  {
   "cell_type": "code",
   "execution_count": 318,
   "metadata": {},
   "outputs": [
    {
     "data": {
      "image/png": "[encoded data removed]",
      "text/plain": [
       "<Figure size 3000x3000 with 2 Axes>"
      ]
     },
     "metadata": {},
     "output_type": "display_data"
    }
   ],
   "source": [
    "plt.figure(figsize=(30, 30))\n",
    "\n",
    "#create a mask to remove the duplicate upper half\n",
    "mask = np.triu(np.ones_like(matrix, dtype=np.bool))\n",
    "\n",
    "heatmap = sns.heatmap(matrix, vmin=-1, mask=mask, vmax=1, annot=True, cmap='BrBG')\n",
    "heatmap.set_title('Correlation Heatmap', fontdict={'fontsize':12}, pad=12);"
   ]
  },
  {
   "cell_type": "code",
   "execution_count": 319,
   "metadata": {},
   "outputs": [
    {
     "data": {
      "text/plain": [
       "array(['UNABLE TO DETERMINE', 'DISREGARDING TRAFFIC SIGNALS',\n",
       "       'IMPROPER LANE USAGE', 'FOLLOWING TOO CLOSELY',\n",
       "       'IMPROPER TURNING/NO SIGNAL', 'IMPROPER OVERTAKING/PASSING',\n",
       "       'FAILING TO YIELD RIGHT-OF-WAY',\n",
       "       'DISREGARDING OTHER TRAFFIC SIGNS', 'DISREGARDING STOP SIGN',\n",
       "       'FAILING TO REDUCE SPEED TO AVOID CRASH', 'NOT APPLICABLE',\n",
       "       'OPERATING VEHICLE IN ERRATIC, RECKLESS, CARELESS, NEGLIGENT OR AGGRESSIVE MANNER',\n",
       "       'IMPROPER BACKING', 'DISTRACTION - FROM INSIDE VEHICLE',\n",
       "       'DRIVING SKILLS/KNOWLEDGE/EXPERIENCE',\n",
       "       'ROAD CONSTRUCTION/MAINTENANCE',\n",
       "       'EXCEEDING AUTHORIZED SPEED LIMIT',\n",
       "       'DISTRACTION - FROM OUTSIDE VEHICLE', 'WEATHER',\n",
       "       'DRIVING ON WRONG SIDE/WRONG WAY',\n",
       "       'UNDER THE INFLUENCE OF ALCOHOL/DRUGS (USE WHEN ARREST IS EFFECTED)',\n",
       "       'PHYSICAL CONDITION OF DRIVER', 'EQUIPMENT - VEHICLE CONDITION',\n",
       "       'CELL PHONE USE OTHER THAN TEXTING', 'DISREGARDING ROAD MARKINGS',\n",
       "       'VISION OBSCURED (SIGNS, TREE LIMBS, BUILDINGS, ETC.)',\n",
       "       'ROAD ENGINEERING/SURFACE/MARKING DEFECTS', 'TEXTING',\n",
       "       'EVASIVE ACTION DUE TO ANIMAL, OBJECT, NONMOTORIST',\n",
       "       'EXCEEDING SAFE SPEED FOR CONDITIONS',\n",
       "       'DISTRACTION - OTHER ELECTRONIC DEVICE (NAVIGATION DEVICE, DVD PLAYER, ETC.)',\n",
       "       'HAD BEEN DRINKING (USE WHEN ARREST IS NOT MADE)',\n",
       "       'DISREGARDING YIELD SIGN', 'TURNING RIGHT ON RED', 'ANIMAL',\n",
       "       'OBSTRUCTED CROSSWALKS', 'BICYCLE ADVANCING LEGALLY ON RED LIGHT',\n",
       "       'PASSING STOPPED SCHOOL BUS', 'RELATED TO BUS STOP',\n",
       "       'MOTORCYCLE ADVANCING LEGALLY ON RED LIGHT'], dtype=object)"
      ]
     },
     "execution_count": 319,
     "metadata": {},
     "output_type": "execute_result"
    }
   ],
   "source": [
    "df_accidents['prim_contributory_cause'].unique()"
   ]
  },
  {
   "cell_type": "code",
   "execution_count": 320,
   "metadata": {},
   "outputs": [],
   "source": [
    "#map the primary contributory causes to a number \n",
    "\n",
    "def primary_cause(cause):\n",
    "    \n",
    "    \n",
    "    if cause == 'UNABLE TO DETERMINE':\n",
    "        return 0\n",
    "    elif cause == 'DISREGARDING TRAFFIC SIGNALS':\n",
    "        return 1\n",
    "    elif cause == 'IMPROPER LANE USAGE':\n",
    "        return 2\n",
    "    elif cause == 'FOLLOWING TOO CLOSELY':\n",
    "        return 3\n",
    "    elif cause == 'IMPROPER TURNING/NO SIGNAL':\n",
    "        return 4\n",
    "    elif cause == 'IMPROPER OVERTAKING/PASSING':\n",
    "        return 5\n",
    "    elif cause == 'FAILING TO YIELD RIGHT-OF-WAY':\n",
    "        return 6\n",
    "    elif cause == 'DISREGARDING OTHER TRAFFIC SIGNS':\n",
    "        return 7\n",
    "    elif cause == 'DISREGARDING STOP SIGN':\n",
    "        return 8\n",
    "    elif cause == 'FAILING TO REDUCE SPEED TO AVOID CRASH':\n",
    "        return 9\n",
    "    elif cause == 'NOT APPLICABLE':\n",
    "        return 10\n",
    "    elif cause == 'OPERATING VEHICLE IN ERRATIC, RECKLESS, CARELESS, NEGLIGENT OR AGGRESSIVE MANNER':\n",
    "        return 11\n",
    "    elif cause == 'IMPROPER BACKING':\n",
    "        return 12\n",
    "    elif cause == 'DISTRACTION - FROM INSIDE VEHICLE':\n",
    "        return 13\n",
    "    elif cause == 'DRIVING SKILLS/KNOWLEDGE/EXPERIENCE':\n",
    "        return 14\n",
    "    elif cause == 'ROAD CONSTRUCTION/MAINTENANCE':\n",
    "        return 15\n",
    "    elif cause == 'EXCEEDING AUTHORIZED SPEED LIMIT':\n",
    "        return 16\n",
    "    elif cause == 'DISTRACTION - FROM OUTSIDE VEHICLE':\n",
    "        return 17\n",
    "    elif cause == 'WEATHER':\n",
    "        return 18\n",
    "    elif cause == 'DRIVING ON WRONG SIDE/WRONG WAY':\n",
    "        return 19\n",
    "    elif cause == 'UNDER THE INFLUENCE OF ALCOHOL/DRUGS (USE WHEN ARREST IS EFFECTED)':\n",
    "        return 20\n",
    "    elif cause == 'PHYSICAL CONDITION OF DRIVER':\n",
    "        return 21\n",
    "    elif cause == 'EQUIPMENT - VEHICLE CONDITION':\n",
    "        return 22\n",
    "    elif cause == 'CELL PHONE USE OTHER THAN TEXTING':\n",
    "        return 23\n",
    "    elif cause == 'DISREGARDING ROAD MARKINGS':\n",
    "        return 24\n",
    "    elif cause == 'VISION OBSCURED (SIGNS, TREE LIMBS, BUILDINGS, ETC.)':\n",
    "        return 25\n",
    "    elif cause == 'ROAD ENGINEERING/SURFACE/MARKING DEFECTS':\n",
    "        return 26\n",
    "    elif cause == 'TEXTING':\n",
    "        return 27\n",
    "    elif cause == 'EVASIVE ACTION DUE TO ANIMAL, OBJECT, NONMOTORIST':\n",
    "        return 28\n",
    "    elif cause == 'EXCEEDING SAFE SPEED FOR CONDITIONS':\n",
    "        return 29\n",
    "    elif cause == 'DISTRACTION - OTHER ELECTRONIC DEVICE (NAVIGATION DEVICE, DVD PLAYER, ETC.)':\n",
    "        return 30\n",
    "    elif cause == 'HAD BEEN DRINKING (USE WHEN ARREST IS NOT MADE)':\n",
    "        return 31\n",
    "    elif cause == 'DISREGARDING YIELD SIGN':\n",
    "        return 32\n",
    "    elif cause == 'TURNING RIGHT ON RED':\n",
    "        return 33\n",
    "    elif cause == 'ANIMAL':\n",
    "        return 34\n",
    "    elif cause == 'OBSTRUCTED CROSSWALKS':\n",
    "        return 35\n",
    "    elif cause == 'BICYCLE ADVANCING LEGALLY ON RED LIGHT':\n",
    "        return 36\n",
    "    elif cause == 'PASSING STOPPED SCHOOL BUS':\n",
    "        return 37\n",
    "    elif cause == 'RELATED TO BUS STOP':\n",
    "        return 38\n",
    "    elif cause == 'MOTORCYCLE ADVANCING LEGALLY ON RED LIGHT':\n",
    "        return 39\n",
    "    else:\n",
    "        return 0\n",
    "    \n",
    "\n",
    "df_accidents['prim_contributory_cause'] = df_accidents['prim_contributory_cause'].map(primary_cause)"
   ]
  },
  {
   "cell_type": "markdown",
   "metadata": {},
   "source": [
    "# Decision Tree"
   ]
  },
  {
   "cell_type": "code",
   "execution_count": 323,
   "metadata": {},
   "outputs": [],
   "source": [
    "#Train-Test Split\n",
    "\n",
    "X = df_accidents.select_dtypes(exclude=['object'])\n",
    "X = X.drop(columns='prim_contributory_cause')\n",
    "X = X.drop(columns=['unnamed: 0', 'crash_date', 'unit_no', 'num_units', 'injuries_total', 'injury_class'])\n",
    "y = df_accidents['prim_contributory_cause']\n",
    "\n",
    "X_train, X_test, y_train, y_test = train_test_split(X, y, test_size=0.35, random_state=2)"
   ]
  },
  {
   "cell_type": "code",
   "execution_count": 324,
   "metadata": {},
   "outputs": [
    {
     "data": {
      "text/plain": [
       "prim_contributory_cause\n",
       "0     113301\n",
       "6      41912\n",
       "3      36213\n",
       "5      17431\n",
       "9      15417\n",
       "10     15160\n",
       "4      12228\n",
       "2      12195\n",
       "12     11195\n",
       "14      9833\n",
       "1       8304\n",
       "18      4471\n",
       "11      4275\n",
       "8       4138\n",
       "13      2338\n",
       "19      1931\n",
       "25      1897\n",
       "22      1827\n",
       "21      1595\n",
       "20      1388\n",
       "17      1298\n",
       "7        775\n",
       "16       736\n",
       "29       638\n",
       "15       505\n",
       "28       501\n",
       "23       480\n",
       "26       456\n",
       "24       430\n",
       "31       303\n",
       "33       299\n",
       "38       180\n",
       "34       156\n",
       "30       134\n",
       "32       127\n",
       "27       110\n",
       "37       102\n",
       "35        50\n",
       "36        23\n",
       "39         8\n",
       "Name: count, dtype: int64"
      ]
     },
     "execution_count": 324,
     "metadata": {},
     "output_type": "execute_result"
    }
   ],
   "source": [
    "#examine data balance \n",
    "y.value_counts()"
   ]
  },
  {
   "cell_type": "code",
   "execution_count": 325,
   "metadata": {},
   "outputs": [
    {
     "data": {
      "text/html": [
       "<style>#sk-container-id-51 {\n",
       "  /* Definition of color scheme common for light and dark mode */\n",
       "  --sklearn-color-text: black;\n",
       "  --sklearn-color-line: gray;\n",
       "  /* Definition of color scheme for unfitted estimators */\n",
       "  --sklearn-color-unfitted-level-0: #fff5e6;\n",
       "  --sklearn-color-unfitted-level-1: #f6e4d2;\n",
       "  --sklearn-color-unfitted-level-2: #ffe0b3;\n",
       "  --sklearn-color-unfitted-level-3: chocolate;\n",
       "  /* Definition of color scheme for fitted estimators */\n",
       "  --sklearn-color-fitted-level-0: #f0f8ff;\n",
       "  --sklearn-color-fitted-level-1: #d4ebff;\n",
       "  --sklearn-color-fitted-level-2: #b3dbfd;\n",
       "  --sklearn-color-fitted-level-3: cornflowerblue;\n",
       "\n",
       "  /* Specific color for light theme */\n",
       "  --sklearn-color-text-on-default-background: var(--sg-text-color, var(--theme-code-foreground, var(--jp-content-font-color1, black)));\n",
       "  --sklearn-color-background: var(--sg-background-color, var(--theme-background, var(--jp-layout-color0, white)));\n",
       "  --sklearn-color-border-box: var(--sg-text-color, var(--theme-code-foreground, var(--jp-content-font-color1, black)));\n",
       "  --sklearn-color-icon: #696969;\n",
       "\n",
       "  @media (prefers-color-scheme: dark) {\n",
       "    /* Redefinition of color scheme for dark theme */\n",
       "    --sklearn-color-text-on-default-background: var(--sg-text-color, var(--theme-code-foreground, var(--jp-content-font-color1, white)));\n",
       "    --sklearn-color-background: var(--sg-background-color, var(--theme-background, var(--jp-layout-color0, #111)));\n",
       "    --sklearn-color-border-box: var(--sg-text-color, var(--theme-code-foreground, var(--jp-content-font-color1, white)));\n",
       "    --sklearn-color-icon: #878787;\n",
       "  }\n",
       "}\n",
       "\n",
       "#sk-container-id-51 {\n",
       "  color: var(--sklearn-color-text);\n",
       "}\n",
       "\n",
       "#sk-container-id-51 pre {\n",
       "  padding: 0;\n",
       "}\n",
       "\n",
       "#sk-container-id-51 input.sk-hidden--visually {\n",
       "  border: 0;\n",
       "  clip: rect(1px 1px 1px 1px);\n",
       "  clip: rect(1px, 1px, 1px, 1px);\n",
       "  height: 1px;\n",
       "  margin: -1px;\n",
       "  overflow: hidden;\n",
       "  padding: 0;\n",
       "  position: absolute;\n",
       "  width: 1px;\n",
       "}\n",
       "\n",
       "#sk-container-id-51 div.sk-dashed-wrapped {\n",
       "  border: 1px dashed var(--sklearn-color-line);\n",
       "  margin: 0 0.4em 0.5em 0.4em;\n",
       "  box-sizing: border-box;\n",
       "  padding-bottom: 0.4em;\n",
       "  background-color: var(--sklearn-color-background);\n",
       "}\n",
       "\n",
       "#sk-container-id-51 div.sk-container {\n",
       "  /* jupyter's `normalize.less` sets `[hidden] { display: none; }`\n",
       "     but bootstrap.min.css set `[hidden] { display: none !important; }`\n",
       "     so we also need the `!important` here to be able to override the\n",
       "     default hidden behavior on the sphinx rendered scikit-learn.org.\n",
       "     See: https://github.com/scikit-learn/scikit-learn/issues/21755 */\n",
       "  display: inline-block !important;\n",
       "  position: relative;\n",
       "}\n",
       "\n",
       "#sk-container-id-51 div.sk-text-repr-fallback {\n",
       "  display: none;\n",
       "}\n",
       "\n",
       "div.sk-parallel-item,\n",
       "div.sk-serial,\n",
       "div.sk-item {\n",
       "  /* draw centered vertical line to link estimators */\n",
       "  background-image: linear-gradient(var(--sklearn-color-text-on-default-background), var(--sklearn-color-text-on-default-background));\n",
       "  background-size: 2px 100%;\n",
       "  background-repeat: no-repeat;\n",
       "  background-position: center center;\n",
       "}\n",
       "\n",
       "/* Parallel-specific style estimator block */\n",
       "\n",
       "#sk-container-id-51 div.sk-parallel-item::after {\n",
       "  content: \"\";\n",
       "  width: 100%;\n",
       "  border-bottom: 2px solid var(--sklearn-color-text-on-default-background);\n",
       "  flex-grow: 1;\n",
       "}\n",
       "\n",
       "#sk-container-id-51 div.sk-parallel {\n",
       "  display: flex;\n",
       "  align-items: stretch;\n",
       "  justify-content: center;\n",
       "  background-color: var(--sklearn-color-background);\n",
       "  position: relative;\n",
       "}\n",
       "\n",
       "#sk-container-id-51 div.sk-parallel-item {\n",
       "  display: flex;\n",
       "  flex-direction: column;\n",
       "}\n",
       "\n",
       "#sk-container-id-51 div.sk-parallel-item:first-child::after {\n",
       "  align-self: flex-end;\n",
       "  width: 50%;\n",
       "}\n",
       "\n",
       "#sk-container-id-51 div.sk-parallel-item:last-child::after {\n",
       "  align-self: flex-start;\n",
       "  width: 50%;\n",
       "}\n",
       "\n",
       "#sk-container-id-51 div.sk-parallel-item:only-child::after {\n",
       "  width: 0;\n",
       "}\n",
       "\n",
       "/* Serial-specific style estimator block */\n",
       "\n",
       "#sk-container-id-51 div.sk-serial {\n",
       "  display: flex;\n",
       "  flex-direction: column;\n",
       "  align-items: center;\n",
       "  background-color: var(--sklearn-color-background);\n",
       "  padding-right: 1em;\n",
       "  padding-left: 1em;\n",
       "}\n",
       "\n",
       "\n",
       "/* Toggleable style: style used for estimator/Pipeline/ColumnTransformer box that is\n",
       "clickable and can be expanded/collapsed.\n",
       "- Pipeline and ColumnTransformer use this feature and define the default style\n",
       "- Estimators will overwrite some part of the style using the `sk-estimator` class\n",
       "*/\n",
       "\n",
       "/* Pipeline and ColumnTransformer style (default) */\n",
       "\n",
       "#sk-container-id-51 div.sk-toggleable {\n",
       "  /* Default theme specific background. It is overwritten whether we have a\n",
       "  specific estimator or a Pipeline/ColumnTransformer */\n",
       "  background-color: var(--sklearn-color-background);\n",
       "}\n",
       "\n",
       "/* Toggleable label */\n",
       "#sk-container-id-51 label.sk-toggleable__label {\n",
       "  cursor: pointer;\n",
       "  display: block;\n",
       "  width: 100%;\n",
       "  margin-bottom: 0;\n",
       "  padding: 0.5em;\n",
       "  box-sizing: border-box;\n",
       "  text-align: center;\n",
       "}\n",
       "\n",
       "#sk-container-id-51 label.sk-toggleable__label-arrow:before {\n",
       "  /* Arrow on the left of the label */\n",
       "  content: \"▸\";\n",
       "  float: left;\n",
       "  margin-right: 0.25em;\n",
       "  color: var(--sklearn-color-icon);\n",
       "}\n",
       "\n",
       "#sk-container-id-51 label.sk-toggleable__label-arrow:hover:before {\n",
       "  color: var(--sklearn-color-text);\n",
       "}\n",
       "\n",
       "/* Toggleable content - dropdown */\n",
       "\n",
       "#sk-container-id-51 div.sk-toggleable__content {\n",
       "  max-height: 0;\n",
       "  max-width: 0;\n",
       "  overflow: hidden;\n",
       "  text-align: left;\n",
       "  /* unfitted */\n",
       "  background-color: var(--sklearn-color-unfitted-level-0);\n",
       "}\n",
       "\n",
       "#sk-container-id-51 div.sk-toggleable__content.fitted {\n",
       "  /* fitted */\n",
       "  background-color: var(--sklearn-color-fitted-level-0);\n",
       "}\n",
       "\n",
       "#sk-container-id-51 div.sk-toggleable__content pre {\n",
       "  margin: 0.2em;\n",
       "  border-radius: 0.25em;\n",
       "  color: var(--sklearn-color-text);\n",
       "  /* unfitted */\n",
       "  background-color: var(--sklearn-color-unfitted-level-0);\n",
       "}\n",
       "\n",
       "#sk-container-id-51 div.sk-toggleable__content.fitted pre {\n",
       "  /* unfitted */\n",
       "  background-color: var(--sklearn-color-fitted-level-0);\n",
       "}\n",
       "\n",
       "#sk-container-id-51 input.sk-toggleable__control:checked~div.sk-toggleable__content {\n",
       "  /* Expand drop-down */\n",
       "  max-height: 200px;\n",
       "  max-width: 100%;\n",
       "  overflow: auto;\n",
       "}\n",
       "\n",
       "#sk-container-id-51 input.sk-toggleable__control:checked~label.sk-toggleable__label-arrow:before {\n",
       "  content: \"▾\";\n",
       "}\n",
       "\n",
       "/* Pipeline/ColumnTransformer-specific style */\n",
       "\n",
       "#sk-container-id-51 div.sk-label input.sk-toggleable__control:checked~label.sk-toggleable__label {\n",
       "  color: var(--sklearn-color-text);\n",
       "  background-color: var(--sklearn-color-unfitted-level-2);\n",
       "}\n",
       "\n",
       "#sk-container-id-51 div.sk-label.fitted input.sk-toggleable__control:checked~label.sk-toggleable__label {\n",
       "  background-color: var(--sklearn-color-fitted-level-2);\n",
       "}\n",
       "\n",
       "/* Estimator-specific style */\n",
       "\n",
       "/* Colorize estimator box */\n",
       "#sk-container-id-51 div.sk-estimator input.sk-toggleable__control:checked~label.sk-toggleable__label {\n",
       "  /* unfitted */\n",
       "  background-color: var(--sklearn-color-unfitted-level-2);\n",
       "}\n",
       "\n",
       "#sk-container-id-51 div.sk-estimator.fitted input.sk-toggleable__control:checked~label.sk-toggleable__label {\n",
       "  /* fitted */\n",
       "  background-color: var(--sklearn-color-fitted-level-2);\n",
       "}\n",
       "\n",
       "#sk-container-id-51 div.sk-label label.sk-toggleable__label,\n",
       "#sk-container-id-51 div.sk-label label {\n",
       "  /* The background is the default theme color */\n",
       "  color: var(--sklearn-color-text-on-default-background);\n",
       "}\n",
       "\n",
       "/* On hover, darken the color of the background */\n",
       "#sk-container-id-51 div.sk-label:hover label.sk-toggleable__label {\n",
       "  color: var(--sklearn-color-text);\n",
       "  background-color: var(--sklearn-color-unfitted-level-2);\n",
       "}\n",
       "\n",
       "/* Label box, darken color on hover, fitted */\n",
       "#sk-container-id-51 div.sk-label.fitted:hover label.sk-toggleable__label.fitted {\n",
       "  color: var(--sklearn-color-text);\n",
       "  background-color: var(--sklearn-color-fitted-level-2);\n",
       "}\n",
       "\n",
       "/* Estimator label */\n",
       "\n",
       "#sk-container-id-51 div.sk-label label {\n",
       "  font-family: monospace;\n",
       "  font-weight: bold;\n",
       "  display: inline-block;\n",
       "  line-height: 1.2em;\n",
       "}\n",
       "\n",
       "#sk-container-id-51 div.sk-label-container {\n",
       "  text-align: center;\n",
       "}\n",
       "\n",
       "/* Estimator-specific */\n",
       "#sk-container-id-51 div.sk-estimator {\n",
       "  font-family: monospace;\n",
       "  border: 1px dotted var(--sklearn-color-border-box);\n",
       "  border-radius: 0.25em;\n",
       "  box-sizing: border-box;\n",
       "  margin-bottom: 0.5em;\n",
       "  /* unfitted */\n",
       "  background-color: var(--sklearn-color-unfitted-level-0);\n",
       "}\n",
       "\n",
       "#sk-container-id-51 div.sk-estimator.fitted {\n",
       "  /* fitted */\n",
       "  background-color: var(--sklearn-color-fitted-level-0);\n",
       "}\n",
       "\n",
       "/* on hover */\n",
       "#sk-container-id-51 div.sk-estimator:hover {\n",
       "  /* unfitted */\n",
       "  background-color: var(--sklearn-color-unfitted-level-2);\n",
       "}\n",
       "\n",
       "#sk-container-id-51 div.sk-estimator.fitted:hover {\n",
       "  /* fitted */\n",
       "  background-color: var(--sklearn-color-fitted-level-2);\n",
       "}\n",
       "\n",
       "/* Specification for estimator info (e.g. \"i\" and \"?\") */\n",
       "\n",
       "/* Common style for \"i\" and \"?\" */\n",
       "\n",
       ".sk-estimator-doc-link,\n",
       "a:link.sk-estimator-doc-link,\n",
       "a:visited.sk-estimator-doc-link {\n",
       "  float: right;\n",
       "  font-size: smaller;\n",
       "  line-height: 1em;\n",
       "  font-family: monospace;\n",
       "  background-color: var(--sklearn-color-background);\n",
       "  border-radius: 1em;\n",
       "  height: 1em;\n",
       "  width: 1em;\n",
       "  text-decoration: none !important;\n",
       "  margin-left: 1ex;\n",
       "  /* unfitted */\n",
       "  border: var(--sklearn-color-unfitted-level-1) 1pt solid;\n",
       "  color: var(--sklearn-color-unfitted-level-1);\n",
       "}\n",
       "\n",
       ".sk-estimator-doc-link.fitted,\n",
       "a:link.sk-estimator-doc-link.fitted,\n",
       "a:visited.sk-estimator-doc-link.fitted {\n",
       "  /* fitted */\n",
       "  border: var(--sklearn-color-fitted-level-1) 1pt solid;\n",
       "  color: var(--sklearn-color-fitted-level-1);\n",
       "}\n",
       "\n",
       "/* On hover */\n",
       "div.sk-estimator:hover .sk-estimator-doc-link:hover,\n",
       ".sk-estimator-doc-link:hover,\n",
       "div.sk-label-container:hover .sk-estimator-doc-link:hover,\n",
       ".sk-estimator-doc-link:hover {\n",
       "  /* unfitted */\n",
       "  background-color: var(--sklearn-color-unfitted-level-3);\n",
       "  color: var(--sklearn-color-background);\n",
       "  text-decoration: none;\n",
       "}\n",
       "\n",
       "div.sk-estimator.fitted:hover .sk-estimator-doc-link.fitted:hover,\n",
       ".sk-estimator-doc-link.fitted:hover,\n",
       "div.sk-label-container:hover .sk-estimator-doc-link.fitted:hover,\n",
       ".sk-estimator-doc-link.fitted:hover {\n",
       "  /* fitted */\n",
       "  background-color: var(--sklearn-color-fitted-level-3);\n",
       "  color: var(--sklearn-color-background);\n",
       "  text-decoration: none;\n",
       "}\n",
       "\n",
       "/* Span, style for the box shown on hovering the info icon */\n",
       ".sk-estimator-doc-link span {\n",
       "  display: none;\n",
       "  z-index: 9999;\n",
       "  position: relative;\n",
       "  font-weight: normal;\n",
       "  right: .2ex;\n",
       "  padding: .5ex;\n",
       "  margin: .5ex;\n",
       "  width: min-content;\n",
       "  min-width: 20ex;\n",
       "  max-width: 50ex;\n",
       "  color: var(--sklearn-color-text);\n",
       "  box-shadow: 2pt 2pt 4pt #999;\n",
       "  /* unfitted */\n",
       "  background: var(--sklearn-color-unfitted-level-0);\n",
       "  border: .5pt solid var(--sklearn-color-unfitted-level-3);\n",
       "}\n",
       "\n",
       ".sk-estimator-doc-link.fitted span {\n",
       "  /* fitted */\n",
       "  background: var(--sklearn-color-fitted-level-0);\n",
       "  border: var(--sklearn-color-fitted-level-3);\n",
       "}\n",
       "\n",
       ".sk-estimator-doc-link:hover span {\n",
       "  display: block;\n",
       "}\n",
       "\n",
       "/* \"?\"-specific style due to the `<a>` HTML tag */\n",
       "\n",
       "#sk-container-id-51 a.estimator_doc_link {\n",
       "  float: right;\n",
       "  font-size: 1rem;\n",
       "  line-height: 1em;\n",
       "  font-family: monospace;\n",
       "  background-color: var(--sklearn-color-background);\n",
       "  border-radius: 1rem;\n",
       "  height: 1rem;\n",
       "  width: 1rem;\n",
       "  text-decoration: none;\n",
       "  /* unfitted */\n",
       "  color: var(--sklearn-color-unfitted-level-1);\n",
       "  border: var(--sklearn-color-unfitted-level-1) 1pt solid;\n",
       "}\n",
       "\n",
       "#sk-container-id-51 a.estimator_doc_link.fitted {\n",
       "  /* fitted */\n",
       "  border: var(--sklearn-color-fitted-level-1) 1pt solid;\n",
       "  color: var(--sklearn-color-fitted-level-1);\n",
       "}\n",
       "\n",
       "/* On hover */\n",
       "#sk-container-id-51 a.estimator_doc_link:hover {\n",
       "  /* unfitted */\n",
       "  background-color: var(--sklearn-color-unfitted-level-3);\n",
       "  color: var(--sklearn-color-background);\n",
       "  text-decoration: none;\n",
       "}\n",
       "\n",
       "#sk-container-id-51 a.estimator_doc_link.fitted:hover {\n",
       "  /* fitted */\n",
       "  background-color: var(--sklearn-color-fitted-level-3);\n",
       "}\n",
       "</style><div id=\"sk-container-id-51\" class=\"sk-top-container\"><div class=\"sk-text-repr-fallback\"><pre>DecisionTreeClassifier(random_state=42)</pre><b>In a Jupyter environment, please rerun this cell to show the HTML representation or trust the notebook. <br />On GitHub, the HTML representation is unable to render, please try loading this page with nbviewer.org.</b></div><div class=\"sk-container\" hidden><div class=\"sk-item\"><div class=\"sk-estimator fitted sk-toggleable\"><input class=\"sk-toggleable__control sk-hidden--visually\" id=\"sk-estimator-id-51\" type=\"checkbox\" checked><label for=\"sk-estimator-id-51\" class=\"sk-toggleable__label fitted sk-toggleable__label-arrow fitted\">&nbsp;&nbsp;DecisionTreeClassifier<a class=\"sk-estimator-doc-link fitted\" rel=\"noreferrer\" target=\"_blank\" href=\"https://scikit-learn.org/1.5/modules/generated/sklearn.tree.DecisionTreeClassifier.html\">?<span>Documentation for DecisionTreeClassifier</span></a><span class=\"sk-estimator-doc-link fitted\">i<span>Fitted</span></span></label><div class=\"sk-toggleable__content fitted\"><pre>DecisionTreeClassifier(random_state=42)</pre></div> </div></div></div></div>"
      ],
      "text/plain": [
       "DecisionTreeClassifier(random_state=42)"
      ]
     },
     "execution_count": 325,
     "metadata": {},
     "output_type": "execute_result"
    }
   ],
   "source": [
    "tree_clf = DecisionTreeClassifier(random_state=42)\n",
    "tree_clf.fit(X_train, y_train)"
   ]
  },
  {
   "cell_type": "code",
   "execution_count": 326,
   "metadata": {},
   "outputs": [
    {
     "name": "stdout",
     "output_type": "stream",
     "text": [
      "Training: 0.9593756225276758\n",
      "Testing: 0.3080263551961665\n"
     ]
    }
   ],
   "source": [
    "print('Training:', tree_clf.score(X_train, y_train))\n",
    "print('Testing:', tree_clf.score(X_test, y_test))"
   ]
  },
  {
   "cell_type": "markdown",
   "metadata": {},
   "source": [
    "## Combine Columns into Categories "
   ]
  },
  {
   "cell_type": "code",
   "execution_count": 17,
   "metadata": {},
   "outputs": [],
   "source": [
    "#py"
   ]
  },
  {
   "cell_type": "markdown",
   "metadata": {},
   "source": [
    "## Train Test Split"
   ]
  },
  {
   "cell_type": "markdown",
   "metadata": {},
   "source": []
  },
  {
   "cell_type": "markdown",
   "metadata": {},
   "source": [
    "# Model 1"
   ]
  },
  {
   "cell_type": "markdown",
   "metadata": {},
   "source": [
    "Justification of Model 1"
   ]
  },
  {
   "cell_type": "code",
   "execution_count": null,
   "metadata": {},
   "outputs": [],
   "source": []
  },
  {
   "cell_type": "code",
   "execution_count": null,
   "metadata": {},
   "outputs": [],
   "source": []
  },
  {
   "cell_type": "markdown",
   "metadata": {},
   "source": [
    "Conclusions from model 1."
   ]
  },
  {
   "cell_type": "markdown",
   "metadata": {},
   "source": [
    "# Model 2"
   ]
  },
  {
   "cell_type": "markdown",
   "metadata": {},
   "source": [
    "Justification of Model 2"
   ]
  },
  {
   "cell_type": "code",
   "execution_count": null,
   "metadata": {},
   "outputs": [],
   "source": []
  },
  {
   "cell_type": "code",
   "execution_count": null,
   "metadata": {},
   "outputs": [],
   "source": []
  },
  {
   "cell_type": "markdown",
   "metadata": {},
   "source": [
    "Conclusions from model 1."
   ]
  },
  {
   "cell_type": "markdown",
   "metadata": {},
   "source": [
    "# Conclusions "
   ]
  },
  {
   "cell_type": "markdown",
   "metadata": {},
   "source": []
  },
  {
   "cell_type": "markdown",
   "metadata": {},
   "source": []
  },
  {
   "cell_type": "markdown",
   "metadata": {},
   "source": [
    "# Next Steps"
   ]
  },
  {
   "cell_type": "markdown",
   "metadata": {},
   "source": []
  }
 ],
 "metadata": {
  "kernelspec": {
   "display_name": "Python (learn-env)",
   "language": "python",
   "name": "learn-env"
  },
  "language_info": {
   "codemirror_mode": {
    "name": "ipython",
    "version": 3
   },
   "file_extension": ".py",
   "mimetype": "text/x-python",
   "name": "python",
   "nbconvert_exporter": "python",
   "pygments_lexer": "ipython3",
   "version": "3.8.5"
  }
 },
 "nbformat": 4,
 "nbformat_minor": 4
}
