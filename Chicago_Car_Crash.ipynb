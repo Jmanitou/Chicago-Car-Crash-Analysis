{
 "cells": [
  {
   "cell_type": "code",
   "execution_count": 65,
   "metadata": {},
   "outputs": [],
   "source": [
    "import pandas as pd\n",
    "import numpy as np\n",
    "import math\n",
    "\n",
    "import matplotlib.pyplot as plt\n",
    "import seaborn as sns\n",
    "\n",
    "from sklearn.preprocessing import StandardScaler\n",
    "from sklearn.linear_model import LogisticRegression\n",
    "from sklearn.tree import DecisionTreeClassifier, plot_tree\n",
    "from sklearn.model_selection import train_test_split\n",
    "from sklearn.metrics import accuracy_score, recall_score, precision_score, f1_score\n",
    "from sklearn.metrics import ConfusionMatrixDisplay, confusion_matrix, classification_report\n",
    "\n",
    "from imblearn.over_sampling import SMOTE"
   ]
  },
  {
   "cell_type": "markdown",
   "metadata": {},
   "source": [
    "# Chicago Car Crash Analysis"
   ]
  },
  {
   "cell_type": "markdown",
   "metadata": {},
   "source": [
    "## Overview \n",
    "For this project we were given two dataframes from the [Chicago Data Portal](https://data.cityofchicago.org/), ([Traffic Crashes-People](https://data.cityofchicago.org/Transportation/Traffic-Crashes-People/u6pd-qa9d/about_data) and [Traffic Crashes-Vehicles](https://data.cityofchicago.org/Transportation/Traffic-Crashes-Vehicles/68nd-jvt3/about_data)). We decided to use a third dataframe, [Traffic Crashes-Crashes](https://data.cityofchicago.org/Transportation/Traffic-Crashes-Crashes/85ca-t3if/about_data), to help with merging the other two dataframes together. These dataframes were filled with accidents that happened in the city of Chicago. After merge, we took a 350,000 sample and filtered for drivers who were aged 15 to 22 (young drivers) and were residents of Illinois. We then created three different models to track serious injuries (incapacitated ones and fatalities) and find the coefficients that caused them with their values."
   ]
  },
  {
   "cell_type": "markdown",
   "metadata": {},
   "source": [
    "## Business Problem\n",
    "\n",
    "We an advertisement company hired by the City of Chicago to create a series of safe driving Public Safety Anncouncements for young adults. \n",
    "\n",
    "These ads will run on social media as well as being posted near high schools and college campuses. \n",
    "\n",
    "In order to figure out what ads will be the most effective, we are examining the causes of fatal accidents for the age range: 15-22 year olds. Once we determine the most common causes of accidents, we will be able to tailor our ads for the city, and hopefully reduce fatalities for young drivers."
   ]
  },
  {
   "cell_type": "markdown",
   "metadata": {},
   "source": [
    "## Data Source \n",
    "\n",
    "Car crash and vehicle accident data was sourced from the [Chicago Data Portal](https://data.cityofchicago.org/). It originates from the [City of Chicago](http://www.chicago.gov/).\n",
    "\n",
    "Data collection began in 2015, but was only adopted by all Chicago district police departments in 2017. The most recent data entry was from September 26, 2024. "
   ]
  },
  {
   "cell_type": "markdown",
   "metadata": {},
   "source": [
    "## Results\n",
    "\n",
    "# FILL IN"
   ]
  },
  {
   "cell_type": "markdown",
   "metadata": {},
   "source": [
    "# Data Import and Cleaning "
   ]
  },
  {
   "cell_type": "code",
   "execution_count": 66,
   "metadata": {},
   "outputs": [],
   "source": [
    "#df_vehicles = pd.read_csv(\"data/Traffic_Crashes_Vehicles.csv\")\n",
    "#df_people = pd.read_csv(\"data/Traffic_Crashes_People.csv\")\n",
    "#df_crashes = pd.read_csv(\"data/Traffic_Crashes_Crashes.csv\")"
   ]
  },
  {
   "cell_type": "markdown",
   "metadata": {},
   "source": [
    "## Merge Dataframes\n",
    "\n",
    "First we sample 300,000 crash reports, then we merge the vehicle and people involved. "
   ]
  },
  {
   "cell_type": "code",
   "execution_count": 67,
   "metadata": {},
   "outputs": [],
   "source": [
    "#Random sample of vehicles \n",
    "#df_accidents = df_vehicles.sample(n=350000, random_state=42)"
   ]
  },
  {
   "cell_type": "code",
   "execution_count": 68,
   "metadata": {},
   "outputs": [],
   "source": [
    "#Then we can add the crash report data \n",
    "#df_accidents = df_accidents.merge(df_crashes, how=\"inner\", on=[\"CRASH_RECORD_ID\", \"CRASH_DATE\"])"
   ]
  },
  {
   "cell_type": "code",
   "execution_count": 69,
   "metadata": {},
   "outputs": [],
   "source": [
    "#every person and vehicle should have a match for the record ID, vehicle ID, and crash date\n",
    "#This makes the dataframe larger as multiple people are involved in each accident \n",
    "#df_accidents = df_accidents.merge(df_people, how=\"inner\", on=[\"CRASH_RECORD_ID\", \"VEHICLE_ID\", \"CRASH_DATE\"])"
   ]
  },
  {
   "cell_type": "markdown",
   "metadata": {},
   "source": [
    "The dataframe gets larger when merging in the people, as there are sometimes more than one person involved in an accident.  "
   ]
  },
  {
   "cell_type": "markdown",
   "metadata": {},
   "source": [
    "## Export Final"
   ]
  },
  {
   "cell_type": "code",
   "execution_count": 70,
   "metadata": {},
   "outputs": [],
   "source": [
    "#df_accidents.to_csv('data/Final_Data.csv')"
   ]
  },
  {
   "cell_type": "markdown",
   "metadata": {},
   "source": [
    "## Read Final"
   ]
  },
  {
   "cell_type": "code",
   "execution_count": 71,
   "metadata": {},
   "outputs": [
    {
     "name": "stderr",
     "output_type": "stream",
     "text": [
      "C:\\Users\\Owner\\anaconda3\\envs\\learn-env\\lib\\site-packages\\IPython\\core\\interactiveshell.py:3145: DtypeWarning: Columns (19,21,40,41,42,44,48,49,50,55,58,59,61,71,102,123,143) have mixed types.Specify dtype option on import or set low_memory=False.\n",
      "  has_raised = await self.run_ast_nodes(code_ast.body, cell_name,\n"
     ]
    }
   ],
   "source": [
    "#reads in the sample that we took above. For ease we have attached a zip file that needs to be extracted into the data folder\n",
    "df_accidents = pd.read_csv(\"data/Final_Data.csv\")"
   ]
  },
  {
   "cell_type": "markdown",
   "metadata": {},
   "source": [
    "## Formatting and Filtering"
   ]
  },
  {
   "cell_type": "code",
   "execution_count": 72,
   "metadata": {},
   "outputs": [],
   "source": [
    "#Sets all column names to lowercase\n",
    "df_accidents.columns = [column.lower() for column in df_accidents.columns]\n",
    "#have the crash date as a datetime object. \n",
    "df_accidents['crash_date'] = pd.to_datetime(df_accidents['crash_date'], format=\"%m/%d/%Y %I:%M:%S %p\")\n",
    "#filters for ages 15-22 who are the driver of the vehicle and have an Illinois license\n",
    "df_accidents = df_accidents.loc[(df_accidents['age'] > 14) & (df_accidents['age'] < 23) & \n",
    "                                (df_accidents['person_type'] == 'DRIVER') & (df_accidents['state'] == 'IL')]\n",
    "df_accidents\n",
    "#drops rows that dont have a vehicle year\n",
    "df_accidents = df_accidents.loc[df_accidents['vehicle_year'].notna()]"
   ]
  },
  {
   "cell_type": "markdown",
   "metadata": {},
   "source": [
    "## Drop Unnecessary Columns"
   ]
  },
  {
   "cell_type": "code",
   "execution_count": 73,
   "metadata": {},
   "outputs": [],
   "source": [
    "#remove columns with less than 50% of data present \n",
    "df_accidents.dropna(axis=1, thresh = int(0.5*df_accidents.shape[0]), inplace=True)\n",
    "\n",
    "#list of columns to drop\n",
    "cols_to_drop = [\n",
    "#remove unnecessary id columns now the data is joined \n",
    "'vehicle_id', 'crash_record_id', 'crash_unit_id',\n",
    "#drops columns that are associated with location as we already have the location column\n",
    "'latitude', 'longitude', 'street_no', 'street_direction', 'street_name', 'travel_direction',\n",
    "#police specific \n",
    "'beat_of_occurrence', \n",
    "#not needed when we have the state of the person involved with the crash\n",
    "'city', 'zipcode', \n",
    "#covered by most_severe_injury\n",
    "'injury_classification',\n",
    "#many NAN\n",
    "'injuries_unknown'\n",
    "]\n",
    "df_accidents.drop(columns=cols_to_drop, inplace=True)"
   ]
  },
  {
   "cell_type": "markdown",
   "metadata": {},
   "source": [
    "## Convert categorical columns to numeric columns"
   ]
  },
  {
   "cell_type": "code",
   "execution_count": 74,
   "metadata": {},
   "outputs": [],
   "source": [
    "#map the weather to a number \n",
    "def weather_code(weather):\n",
    "    \"\"\"\n",
    "    0 - Unknown, Clear, Clouds\n",
    "    1 - Rain, Snow, Freezing Rain/Drizzle, Sleet/Hail, Blowing Snow, Fog/Smoke/Haze, Blowing Sand/Soil/Dirt\n",
    "    \"\"\"\n",
    "    #unserious weather condition\n",
    "    if weather in ['CLEAR', 'CLOUDY/OVERCAST']:\n",
    "        return 0\n",
    "    #serious weather condition\n",
    "    elif weather in ['RAIN', 'SNOW', 'FREEZING RAIN/DRIZZLE', 'SLEET/HAIL', 'BLOWING SNOW', 'FOG/SMOKE/HAZE', \n",
    "                     'BLOWING SAND/SOIL/DIRT']:\n",
    "        return 1\n",
    "    #unknown weather condition\n",
    "    return 0\n",
    "    \n",
    "df_accidents['weather_condition'] = df_accidents['weather_condition'].map(weather_code)"
   ]
  },
  {
   "cell_type": "code",
   "execution_count": 75,
   "metadata": {},
   "outputs": [
    {
     "data": {
      "text/plain": [
       "0    17089\n",
       "1     1677\n",
       "Name: lighting_condition, dtype: int64"
      ]
     },
     "execution_count": 75,
     "metadata": {},
     "output_type": "execute_result"
    }
   ],
   "source": [
    "#map the lighting conditions\n",
    "def lighting(lighting_condition):\n",
    "    \"\"\"\n",
    "    0 - Unknown, Daylight\n",
    "    1 - Darkness, Dusk, Dawn, Darkness (Lighted Road)\n",
    "    \"\"\"\n",
    "    #night lighting conditions\n",
    "    if lighting_condition in ['DARKNESS', 'DUSK', 'DAWN', 'DARKNESS (LIGHTED ROAD)']:\n",
    "        return 1\n",
    "    #daytime/unknown lighting conditions\n",
    "    return 0\n",
    "df_accidents['lighting_condition'] = df_accidents['lighting_condition'].map(lighting)\n",
    "df_accidents['lighting_condition'].value_counts()"
   ]
  },
  {
   "cell_type": "code",
   "execution_count": 76,
   "metadata": {},
   "outputs": [],
   "source": [
    "#map the injuries to a number \n",
    "def injury_severity(severity):\n",
    "    \"\"\"\n",
    "    Injuries are categorized on a scale of 0 to 1\n",
    "    0 - No Indication of Injury \n",
    "    0 - REPORTED, NOT EVIDENT \n",
    "    0 - Nonincapacitating Injury \n",
    "    1 - incapacitating Injury \n",
    "    1 - Fatal Injury \n",
    "    \"\"\"\n",
    "    #Serious Injury\n",
    "    if severity in ['INCAPACITATING INJURY', 'FATAL']:\n",
    "        return 1\n",
    "    #No Injury or Minor Injury\n",
    "    else:\n",
    "        return 0\n",
    "    \n",
    "\n",
    "df_accidents['serious_injury'] = df_accidents['most_severe_injury'].map(injury_severity)"
   ]
  },
  {
   "cell_type": "code",
   "execution_count": 77,
   "metadata": {},
   "outputs": [],
   "source": [
    "#drop the columns \n",
    "in_cols_to_drop = [\n",
    "#remove counts of each injury \n",
    "'injuries_fatal', 'injuries_incapacitating', 'injuries_non_incapacitating',\n",
    "'injuries_reported_not_evident', 'injuries_no_indication'\n",
    "]\n",
    "\n",
    "df_accidents.drop(columns=in_cols_to_drop, inplace=True)"
   ]
  },
  {
   "cell_type": "code",
   "execution_count": 78,
   "metadata": {},
   "outputs": [],
   "source": [
    "#map primary and secondary contributory cause into different categories\n",
    "def bin_cause(cause):\n",
    "    #Fault of the driver\n",
    "    if cause in ['DISREGARDING TRAFFIC SIGNALS', 'IMPROPER LANE USAGE', 'FOLLOWING TOO CLOSELY', \n",
    "                   'IMPROPER TURNING/NO SIGNAL', 'IMPROPER OVERTAKING/PASSING', 'FAILING TO YIELD RIGHT-OF-WAY',\n",
    "                   'DISREGARDING OTHER TRAFFIC SIGNS', 'DISREGARDING STOP SIGN',\n",
    "                   'FAILING TO REDUCE SPEED TO AVOID CRASH', \n",
    "                   'OPERATING VEHICLE IN ERRATIC, RECKLESS, CARELESS, NEGLIGENT OR AGGRESSIVE MANNER',\n",
    "                   'IMPROPER BACKING', 'DRIVING SKILLS/KNOWLEDGE/EXPERIENCE',\n",
    "                   'EXCEEDING AUTHORIZED SPEED LIMIT', 'DRIVING ON WRONG SIDE/WRONG WAY',\n",
    "                   'DISREGARDING ROAD MARKINGS', 'EXCEEDING SAFE SPEED FOR CONDITIONS', 'DISREGARDING YIELD SIGN',\n",
    "                   'TURNING RIGHT ON RED', 'BICYCLE ADVANCING LEGALLY ON RED LIGHT', 'PASSING STOPPED SCHOOL BUS',\n",
    "                   'RELATED TO BUS STOP', 'MOTORCYCLE ADVANCING LEGALLY ON RED LIGHT']:\n",
    "        return 1\n",
    "    #driver is inebriated or shouldnt be driving due to their physicality     \n",
    "    elif cause in ['UNDER THE INFLUENCE OF ALCOHOL/DRUGS (USE WHEN ARREST IS EFFECTED)', \n",
    "                   'HAD BEEN DRINKING (USE WHEN ARREST IS NOT MADE)', 'PHYSICAL CONDITION OF DRIVER']:\n",
    "        return 2\n",
    "    #distracted driver\n",
    "    elif cause in ['DISTRACTION - FROM INSIDE VEHICLE', 'DISTRACTION - FROM OUTSIDE VEHICLE', \n",
    "                   'CELL PHONE USE OTHER THAN TEXTING', \n",
    "                   'DISTRACTION - OTHER ELECTRONIC DEVICE (NAVIGATION DEVICE, DVD PLAYER, ETC.)', \n",
    "                   'TEXTING']:\n",
    "        return 3     \n",
    "    #fault of vehicle, road, or nature\n",
    "    elif cause in ['EQUIPMENT - VEHICLE CONDITION', 'VISION OBSCURED (SIGNS, TREE LIMBS, BUILDINGS, ETC.)'\n",
    "                 'ROAD ENGINEERING/SURFACE/MARKING DEFECTS', 'EVASIVE ACTION DUE TO ANIMAL, OBJECT, NONMOTORIST',\n",
    "                 'OBSTRUCTED CROSSWALKS', 'ROAD CONSTRUCTION/MAINTENANCE', 'WEATHER', 'ANIMAL', 'NOT APPLICABLE']:\n",
    "        return 4\n",
    "    #unknown\n",
    "    return 0\n",
    "#main cause    \n",
    "df_accidents['prim_contributory_cause'] = df_accidents['prim_contributory_cause'].map(bin_cause)\n",
    "#secondary cause\n",
    "df_accidents['sec_contributory_cause'] = df_accidents['sec_contributory_cause'].map(bin_cause)  "
   ]
  },
  {
   "cell_type": "code",
   "execution_count": 79,
   "metadata": {},
   "outputs": [],
   "source": [
    "#mapping vehicle defects\n",
    "def vehicle_defect_clf(defect):\n",
    "    ''' \n",
    "    0 = No / Unknown defect\n",
    "\n",
    "    1 = Has a defect \n",
    "    '''\n",
    "    #no defects\n",
    "    if defect in ['NONE', 'UNKNOWN']:\n",
    "        return 0\n",
    "    #has defect\n",
    "    return 1\n",
    "df_accidents['vehicle_defect'] = df_accidents['vehicle_defect'].map(vehicle_defect_clf)"
   ]
  },
  {
   "cell_type": "markdown",
   "metadata": {},
   "source": [
    "## Examine Correlations"
   ]
  },
  {
   "cell_type": "code",
   "execution_count": 80,
   "metadata": {},
   "outputs": [
    {
     "name": "stdout",
     "output_type": "stream",
     "text": [
      "                         unnamed: 0   unit_no  vehicle_year  vehicle_defect  \\\n",
      "unnamed: 0                 1.000000 -0.030351      0.000073        0.006591   \n",
      "unit_no                   -0.030351  1.000000      0.026196       -0.068996   \n",
      "vehicle_year               0.000073  0.026196      1.000000        0.001085   \n",
      "vehicle_defect             0.006591 -0.068996      0.001085        1.000000   \n",
      "occupant_cnt              -0.014501  0.049222      0.001302       -0.007074   \n",
      "posted_speed_limit        -0.015691  0.047335      0.003955        0.006839   \n",
      "weather_condition         -0.008608 -0.020038     -0.012835        0.004826   \n",
      "lighting_condition         0.002715  0.014262     -0.006905       -0.004310   \n",
      "prim_contributory_cause   -0.010192 -0.052266     -0.008569        0.141883   \n",
      "sec_contributory_cause    -0.008573 -0.017701      0.005074        0.020249   \n",
      "num_units                 -0.048291  0.187261      0.002157       -0.020337   \n",
      "injuries_total            -0.016062  0.011026      0.006647        0.009787   \n",
      "crash_hour                 0.016222  0.048054      0.000888       -0.020941   \n",
      "crash_day_of_week          0.005269  0.010822      0.012520       -0.010046   \n",
      "crash_month               -0.012091  0.003704      0.003863       -0.000030   \n",
      "age                        0.000115  0.092323      0.025221        0.002695   \n",
      "serious_injury            -0.006672 -0.015925     -0.003989       -0.000384   \n",
      "\n",
      "                         occupant_cnt  posted_speed_limit  weather_condition  \\\n",
      "unnamed: 0                  -0.014501           -0.015691          -0.008608   \n",
      "unit_no                      0.049222            0.047335          -0.020038   \n",
      "vehicle_year                 0.001302            0.003955          -0.012835   \n",
      "vehicle_defect              -0.007074            0.006839           0.004826   \n",
      "occupant_cnt                 1.000000            0.035541          -0.024308   \n",
      "posted_speed_limit           0.035541            1.000000           0.039689   \n",
      "weather_condition           -0.024308            0.039689           1.000000   \n",
      "lighting_condition           0.023693            0.011327           0.047676   \n",
      "prim_contributory_cause      0.010431            0.034854           0.123508   \n",
      "sec_contributory_cause      -0.003140           -0.004236           0.028678   \n",
      "num_units                   -0.000047            0.018575          -0.001142   \n",
      "injuries_total               0.227511            0.069365           0.008593   \n",
      "crash_hour                   0.031228            0.004019          -0.012109   \n",
      "crash_day_of_week           -0.002576            0.000631           0.005040   \n",
      "crash_month                 -0.010001            0.008626          -0.036149   \n",
      "age                         -0.063775            0.021274          -0.005252   \n",
      "serious_injury               0.046497            0.027230          -0.012607   \n",
      "\n",
      "                         lighting_condition  prim_contributory_cause  \\\n",
      "unnamed: 0                         0.002715                -0.010192   \n",
      "unit_no                            0.014262                -0.052266   \n",
      "vehicle_year                      -0.006905                -0.008569   \n",
      "vehicle_defect                    -0.004310                 0.141883   \n",
      "occupant_cnt                       0.023693                 0.010431   \n",
      "posted_speed_limit                 0.011327                 0.034854   \n",
      "weather_condition                  0.047676                 0.123508   \n",
      "lighting_condition                 1.000000                 0.001114   \n",
      "prim_contributory_cause            0.001114                 1.000000   \n",
      "sec_contributory_cause             0.003007                 0.204234   \n",
      "num_units                         -0.016444                 0.010959   \n",
      "injuries_total                    -0.001095                 0.010878   \n",
      "crash_hour                         0.112827                -0.023690   \n",
      "crash_day_of_week                 -0.004241                -0.014751   \n",
      "crash_month                        0.029829                -0.007986   \n",
      "age                                0.000142                -0.017213   \n",
      "serious_injury                    -0.002169                 0.011915   \n",
      "\n",
      "                         sec_contributory_cause  num_units  injuries_total  \\\n",
      "unnamed: 0                            -0.008573  -0.048291       -0.016062   \n",
      "unit_no                               -0.017701   0.187261        0.011026   \n",
      "vehicle_year                           0.005074   0.002157        0.006647   \n",
      "vehicle_defect                         0.020249  -0.020337        0.009787   \n",
      "occupant_cnt                          -0.003140  -0.000047        0.227511   \n",
      "posted_speed_limit                    -0.004236   0.018575        0.069365   \n",
      "weather_condition                      0.028678  -0.001142        0.008593   \n",
      "lighting_condition                     0.003007  -0.016444       -0.001095   \n",
      "prim_contributory_cause                0.204234   0.010959        0.010878   \n",
      "sec_contributory_cause                 1.000000  -0.024491       -0.026820   \n",
      "num_units                             -0.024491   1.000000        0.131784   \n",
      "injuries_total                        -0.026820   0.131784        1.000000   \n",
      "crash_hour                             0.019086   0.001768       -0.012138   \n",
      "crash_day_of_week                      0.010968  -0.000768       -0.016930   \n",
      "crash_month                           -0.006628   0.003149        0.011961   \n",
      "age                                    0.005193   0.002804       -0.015451   \n",
      "serious_injury                        -0.012461   0.037669        0.316082   \n",
      "\n",
      "                         crash_hour  crash_day_of_week  crash_month       age  \\\n",
      "unnamed: 0                 0.016222           0.005269    -0.012091  0.000115   \n",
      "unit_no                    0.048054           0.010822     0.003704  0.092323   \n",
      "vehicle_year               0.000888           0.012520     0.003863  0.025221   \n",
      "vehicle_defect            -0.020941          -0.010046    -0.000030  0.002695   \n",
      "occupant_cnt               0.031228          -0.002576    -0.010001 -0.063775   \n",
      "posted_speed_limit         0.004019           0.000631     0.008626  0.021274   \n",
      "weather_condition         -0.012109           0.005040    -0.036149 -0.005252   \n",
      "lighting_condition         0.112827          -0.004241     0.029829  0.000142   \n",
      "prim_contributory_cause   -0.023690          -0.014751    -0.007986 -0.017213   \n",
      "sec_contributory_cause     0.019086           0.010968    -0.006628  0.005193   \n",
      "num_units                  0.001768          -0.000768     0.003149  0.002804   \n",
      "injuries_total            -0.012138          -0.016930     0.011961 -0.015451   \n",
      "crash_hour                 1.000000           0.070195     0.000668 -0.044688   \n",
      "crash_day_of_week          0.070195           1.000000    -0.000641 -0.013649   \n",
      "crash_month                0.000668          -0.000641     1.000000 -0.002355   \n",
      "age                       -0.044688          -0.013649    -0.002355  1.000000   \n",
      "serious_injury            -0.011096          -0.008122    -0.004952 -0.004076   \n",
      "\n",
      "                         serious_injury  \n",
      "unnamed: 0                    -0.006672  \n",
      "unit_no                       -0.015925  \n",
      "vehicle_year                  -0.003989  \n",
      "vehicle_defect                -0.000384  \n",
      "occupant_cnt                   0.046497  \n",
      "posted_speed_limit             0.027230  \n",
      "weather_condition             -0.012607  \n",
      "lighting_condition            -0.002169  \n",
      "prim_contributory_cause        0.011915  \n",
      "sec_contributory_cause        -0.012461  \n",
      "num_units                      0.037669  \n",
      "injuries_total                 0.316082  \n",
      "crash_hour                    -0.011096  \n",
      "crash_day_of_week             -0.008122  \n",
      "crash_month                   -0.004952  \n",
      "age                           -0.004076  \n",
      "serious_injury                 1.000000  \n"
     ]
    }
   ],
   "source": [
    "df_matrix = df_accidents.select_dtypes(exclude=['object'])\n",
    "\n",
    "matrix = df_matrix.corr()\n",
    "print(matrix)"
   ]
  },
  {
   "cell_type": "code",
   "execution_count": 81,
   "metadata": {},
   "outputs": [
    {
     "data": {
      "image/png": "[encoded data removed]",
      "text/plain": [
       "<Figure size 2160x2160 with 2 Axes>"
      ]
     },
     "metadata": {
      "needs_background": "light"
     },
     "output_type": "display_data"
    }
   ],
   "source": [
    "plt.figure(figsize=(30, 30))\n",
    "\n",
    "#create a mask to remove the duplicate upper half\n",
    "mask = np.triu(np.ones_like(matrix, dtype=np.bool))\n",
    "\n",
    "heatmap = sns.heatmap(matrix, vmin=-1, mask=mask, vmax=1, annot=True, cmap='BrBG')\n",
    "heatmap.set_title('Correlation Heatmap', fontdict={'fontsize':12}, pad=12);"
   ]
  },
  {
   "cell_type": "markdown",
   "metadata": {},
   "source": [
    "# Model 1: Decision Tree"
   ]
  },
  {
   "cell_type": "markdown",
   "metadata": {},
   "source": [
    "Create a decision tree to evaluate which variables make crashes more likely to cause fatal injury."
   ]
  },
  {
   "cell_type": "code",
   "execution_count": 83,
   "metadata": {},
   "outputs": [],
   "source": [
    "#Train-Test Split\n",
    "X = df_accidents.select_dtypes(exclude=['object'])\n",
    "X = X.drop(columns='serious_injury')\n",
    "#columns dropped either for no relation to our target, not able to advice in changing like vehicle year,\n",
    "#or track the same variables as our target\n",
    "X = X.drop(columns=['unnamed: 0', 'crash_date', 'unit_no', 'num_units', 'injuries_total', 'vehicle_year'])\n",
    "y = df_accidents['serious_injury']\n",
    "\n",
    "X_train, X_test, y_train, y_test = train_test_split(X, y, stratify=y, random_state=2)"
   ]
  },
  {
   "cell_type": "code",
   "execution_count": 84,
   "metadata": {},
   "outputs": [
    {
     "data": {
      "text/plain": [
       "0    18321\n",
       "1      445\n",
       "Name: serious_injury, dtype: int64"
      ]
     },
     "execution_count": 84,
     "metadata": {},
     "output_type": "execute_result"
    }
   ],
   "source": [
    "#examine data balance (imbalanced)\n",
    "y.value_counts()"
   ]
  },
  {
   "cell_type": "code",
   "execution_count": 86,
   "metadata": {},
   "outputs": [
    {
     "data": {
      "text/plain": [
       "DecisionTreeClassifier(min_samples_leaf=100, random_state=42)"
      ]
     },
     "execution_count": 86,
     "metadata": {},
     "output_type": "execute_result"
    }
   ],
   "source": [
    "tree_clf = DecisionTreeClassifier(random_state=42, min_samples_leaf=100)\n",
    "tree_clf.fit(X_train, y_train)"
   ]
  },
  {
   "cell_type": "code",
   "execution_count": 87,
   "metadata": {},
   "outputs": [
    {
     "name": "stdout",
     "output_type": "stream",
     "text": [
      "Training: 0.9762682961489271\n",
      "Testing: 0.9763427109974424\n"
     ]
    }
   ],
   "source": [
    "print('Training:', tree_clf.score(X_train, y_train))\n",
    "print('Testing:', tree_clf.score(X_test, y_test))"
   ]
  },
  {
   "cell_type": "code",
   "execution_count": 88,
   "metadata": {},
   "outputs": [
    {
     "name": "stdout",
     "output_type": "stream",
     "text": [
      "              precision    recall  f1-score   support\n",
      "\n",
      "           0       0.98      1.00      0.99      4581\n",
      "           1       0.00      0.00      0.00       111\n",
      "\n",
      "    accuracy                           0.98      4692\n",
      "   macro avg       0.49      0.50      0.49      4692\n",
      "weighted avg       0.95      0.98      0.96      4692\n",
      "\n"
     ]
    },
    {
     "name": "stderr",
     "output_type": "stream",
     "text": [
      "C:\\Users\\Owner\\anaconda3\\envs\\learn-env\\lib\\site-packages\\sklearn\\metrics\\_classification.py:1221: UndefinedMetricWarning: Precision and F-score are ill-defined and being set to 0.0 in labels with no predicted samples. Use `zero_division` parameter to control this behavior.\n",
      "  _warn_prf(average, modifier, msg_start, len(result))\n"
     ]
    }
   ],
   "source": [
    "print(classification_report(y_test, tree_clf.predict(X_test)))"
   ]
  },
  {
   "cell_type": "code",
   "execution_count": 89,
   "metadata": {},
   "outputs": [
    {
     "name": "stdout",
     "output_type": "stream",
     "text": [
      "0.0 vehicle_defect\n",
      "0.11926541016538851 occupant_cnt\n",
      "0.040461663146835865 posted_speed_limit\n",
      "0.03179449635367091 weather_condition\n",
      "0.01951283452968308 lighting_condition\n",
      "0.022280532714151084 prim_contributory_cause\n",
      "0.11400861025832724 sec_contributory_cause\n",
      "0.2853411892871748 crash_hour\n",
      "0.11621250349742987 crash_day_of_week\n",
      "0.11525495291451944 crash_month\n",
      "0.13586780713281915 age\n"
     ]
    }
   ],
   "source": [
    "feature_used = X.columns\n",
    "\n",
    "for fi, feature in zip(tree_clf.feature_importances_, feature_used):\n",
    "    print(fi, feature)\n"
   ]
  },
  {
   "cell_type": "markdown",
   "metadata": {},
   "source": [
    "Through our decision tree, we can see that the most significant factors in determining if a crash will be fatal include: \n",
    "- Occupant Count\n",
    "- Secondary Contributory Cause\n",
    "- Crash Hour\n",
    "- Crash Month\n",
    "- Age"
   ]
  },
  {
   "cell_type": "markdown",
   "metadata": {},
   "source": [
    "# Model 2: Baseline"
   ]
  },
  {
   "cell_type": "markdown",
   "metadata": {},
   "source": [
    "In order to evaluate how well we can predict, and hopefully prevent, crashes, we used the most significant variable, Crash Hour, to establish a baseline logistic regression model."
   ]
  },
  {
   "cell_type": "code",
   "execution_count": 102,
   "metadata": {},
   "outputs": [],
   "source": [
    "X_train_baseline = X_train[['crash_hour']]\n",
    "X_test_baseline = X_test[['crash_hour']]"
   ]
  },
  {
   "cell_type": "code",
   "execution_count": 103,
   "metadata": {},
   "outputs": [],
   "source": [
    "smote = SMOTE(random_state=2)\n",
    "X_train_res, y_train_res = smote.fit_resample(X_train_baseline, y_train)"
   ]
  },
  {
   "cell_type": "code",
   "execution_count": 104,
   "metadata": {},
   "outputs": [
    {
     "data": {
      "text/plain": [
       "0.5075691411935953"
      ]
     },
     "execution_count": 104,
     "metadata": {},
     "output_type": "execute_result"
    }
   ],
   "source": [
    "baseline_model = LogisticRegression()\n",
    "baseline_model.fit(X_train_res, y_train_res)\n",
    "baseline_model.score(X_train_res, y_train_res)"
   ]
  },
  {
   "cell_type": "code",
   "execution_count": 107,
   "metadata": {},
   "outputs": [
    {
     "name": "stdout",
     "output_type": "stream",
     "text": [
      "              precision    recall  f1-score   support\n",
      "\n",
      "           0       0.98      0.60      0.75      4581\n",
      "           1       0.02      0.41      0.05       111\n",
      "\n",
      "    accuracy                           0.60      4692\n",
      "   macro avg       0.50      0.50      0.40      4692\n",
      "weighted avg       0.95      0.60      0.73      4692\n",
      "\n"
     ]
    },
    {
     "data": {
      "text/plain": [
       "0.40540540540540543"
      ]
     },
     "execution_count": 107,
     "metadata": {},
     "output_type": "execute_result"
    }
   ],
   "source": [
    "y_pred = baseline_model.predict(X_test_baseline)\n",
    "print(classification_report(y_test, y_pred))"
   ]
  },
  {
   "cell_type": "markdown",
   "metadata": {},
   "source": [
    "Our baseline is able to predict fatal crashes around 50% of the time"
   ]
  },
  {
   "cell_type": "markdown",
   "metadata": {},
   "source": [
    "# Model 3: Logistic Regression"
   ]
  },
  {
   "cell_type": "markdown",
   "metadata": {},
   "source": [
    "To improve our baseline, we examined more factors in a multiple linear regression. "
   ]
  },
  {
   "cell_type": "code",
   "execution_count": 111,
   "metadata": {},
   "outputs": [
    {
     "data": {
      "text/plain": [
       "LogisticRegression(random_state=101)"
      ]
     },
     "execution_count": 111,
     "metadata": {},
     "output_type": "execute_result"
    }
   ],
   "source": [
    "#scale values\n",
    "scaler = StandardScaler()\n",
    "X_train_scaled = scaler.fit_transform(X_train, y_train)\n",
    "X_test_scaled = scaler.transform(X_test)\n",
    "\n",
    "#make train sample more balanced\n",
    "sm = SMOTE(random_state=99, sampling_strategy=0.9)\n",
    "X_train_oversampled, y_train_oversampled = sm.fit_resample(X_train_scaled, y_train)\n",
    "\n",
    "#logistic model with more features\n",
    "log = LogisticRegression(random_state=101)\n",
    "log.fit(X_train_oversampled, y_train_oversampled)"
   ]
  },
  {
   "cell_type": "code",
   "execution_count": 112,
   "metadata": {},
   "outputs": [
    {
     "data": {
      "text/plain": [
       "array([[1.00876907, 1.17285683, 1.30719194, 0.87909238, 1.00035595,\n",
       "        1.13667017, 0.83296631, 0.98452614, 0.96776609, 0.99281148,\n",
       "        0.99023659]])"
      ]
     },
     "execution_count": 112,
     "metadata": {},
     "output_type": "execute_result"
    }
   ],
   "source": [
    "#coefficients\n",
    "np.exp(log.coef_)"
   ]
  },
  {
   "cell_type": "code",
   "execution_count": 113,
   "metadata": {},
   "outputs": [
    {
     "name": "stdout",
     "output_type": "stream",
     "text": [
      "Training: 0.5768405730483414\n",
      "Testing: 0.6928815004262575\n"
     ]
    }
   ],
   "source": [
    "print('Training:', log.score(X_train_oversampled, y_train_oversampled))\n",
    "print('Testing:', log.score(X_test_scaled, y_test))"
   ]
  },
  {
   "cell_type": "code",
   "execution_count": 114,
   "metadata": {},
   "outputs": [
    {
     "name": "stdout",
     "output_type": "stream",
     "text": [
      "              precision    recall  f1-score   support\n",
      "\n",
      "           0       0.98      0.70      0.82      4581\n",
      "           1       0.03      0.38      0.06       111\n",
      "\n",
      "    accuracy                           0.69      4692\n",
      "   macro avg       0.50      0.54      0.44      4692\n",
      "weighted avg       0.96      0.69      0.80      4692\n",
      "\n"
     ]
    }
   ],
   "source": [
    "print(classification_report(y_test, log.predict(X_test_scaled)))"
   ]
  },
  {
   "cell_type": "markdown",
   "metadata": {},
   "source": [
    "Conclusions from model 2.\n",
    "# FILL IN"
   ]
  },
  {
   "cell_type": "markdown",
   "metadata": {},
   "source": [
    "# Conclusions "
   ]
  },
  {
   "cell_type": "markdown",
   "metadata": {},
   "source": [
    "## Education Campaign Focus Topics"
   ]
  },
  {
   "cell_type": "markdown",
   "metadata": {},
   "source": [
    "Promote safer driving in young adults by: \n",
    "\n",
    "- Focusing our educational campaign on late night driving skills\n",
    "\n",
    "- Educate young adults on the extra risk of driving on weekends and risk of carpooling\n",
    "\n",
    "- Encourage young adults to obey Chicago speed limits\n",
    "\n",
    "- Promote Vision 0 initiatives in schools. \n"
   ]
  },
  {
   "cell_type": "markdown",
   "metadata": {},
   "source": [
    "# Next Steps"
   ]
  },
  {
   "cell_type": "markdown",
   "metadata": {},
   "source": [
    "## Expand on Crash Location and Demographics\n",
    "\n",
    "Examine the data in conjunction with Economic Hardship Data and Census information.\n",
    "\n",
    "Vision 0 has already found correlation between accidents and historically poor areas: how can we improve driver education for these areas? \n",
    "\n",
    "Can we connect with the community to drive change?\n",
    "\n",
    "## Expand our analysis to focus on Dangerous Roads and Speed Corridors\n",
    "\n",
    "Teach young adults about what roads are the most dangerous and how to best navigate them. \n"
   ]
  },
  {
   "cell_type": "markdown",
   "metadata": {},
   "source": [
    "# Appendix"
   ]
  },
  {
   "cell_type": "code",
   "execution_count": 87,
   "metadata": {},
   "outputs": [
    {
     "name": "stdout",
     "output_type": "stream",
     "text": [
      "unnamed: 0 : 44 , 51\n",
      "crash_date : 2020-08-15 21:00:00 , 2017-11-14 14:30:00\n",
      "unit_no : 2 , 1\n",
      "unit_type : DRIVER , DRIVER\n",
      "make : VOLKSWAGEN , TOYOTA MOTOR COMPANY, LTD.\n",
      "model : JETTA , TOYOTA\n",
      "lic_plate_state : IL , IL\n",
      "vehicle_year : 2014.0 , 2006.0\n",
      "vehicle_defect : 0 , 0\n",
      "vehicle_type : PASSENGER , PASSENGER\n",
      "vehicle_use : PERSONAL , PERSONAL\n",
      "maneuver : STRAIGHT AHEAD , STRAIGHT AHEAD\n",
      "occupant_cnt : 2.0 , 1.0\n",
      "first_contact_point : SIDE-LEFT , FRONT\n",
      "posted_speed_limit : 30 , 35\n",
      "traffic_control_device : NO CONTROLS , STOP SIGN/FLASHER\n",
      "device_condition : NO CONTROLS , FUNCTIONING PROPERLY\n",
      "weather_condition : 0 , 0\n",
      "lighting_condition : 0 , 0\n",
      "first_crash_type : SIDESWIPE SAME DIRECTION , ANGLE\n",
      "trafficway_type : NOT DIVIDED , ONE-WAY\n",
      "alignment : STRAIGHT AND LEVEL , STRAIGHT AND LEVEL\n",
      "roadway_surface_cond : DRY , DRY\n",
      "road_defect : NO DEFECTS , UNKNOWN\n",
      "report_type : NOT ON SCENE (DESK REPORT) , NOT ON SCENE (DESK REPORT)\n",
      "crash_type : 0 , 1\n",
      "damage : OVER $1,500 , OVER $1,500\n",
      "date_police_notified : 08/15/2020 09:27:00 PM , 11/14/2017 05:05:00 PM\n",
      "prim_contributory_cause : 0 , 0\n",
      "sec_contributory_cause : 0 , 4\n",
      "num_units : 2 , 2\n",
      "most_severe_injury : NO INDICATION OF INJURY , NO INDICATION OF INJURY\n",
      "injuries_total : 0.0 , 0.0\n",
      "crash_hour : 21 , 14\n",
      "crash_day_of_week : 7 , 3\n",
      "crash_month : 8 , 11\n",
      "location : POINT (-87.743012156455 41.807998620395) , POINT (-87.629561250361 41.762675055593)\n",
      "person_id : O939405 , O261581\n",
      "person_type : DRIVER , DRIVER\n",
      "state : IL , IL\n",
      "sex : F , F\n",
      "age : 21.0 , 18.0\n",
      "drivers_license_state : IL , IL\n",
      "drivers_license_class : nan , nan\n",
      "safety_equipment : SAFETY BELT USED , USAGE UNKNOWN\n",
      "airbag_deployed : DID NOT DEPLOY , DEPLOYMENT UNKNOWN\n",
      "ejection : NONE , NONE\n",
      "driver_action : NONE , UNKNOWN\n",
      "driver_vision : NOT OBSCURED , UNKNOWN\n",
      "physical_condition : NORMAL , UNKNOWN\n",
      "bac_result : TEST NOT OFFERED , TEST NOT OFFERED\n",
      "serious_injury : 0 , 0\n"
     ]
    }
   ],
   "source": [
    "count = 0\n",
    "for column in df_accidents.iloc[0]:\n",
    "    print(df_accidents.columns[count], \":\", column, \",\", df_accidents.iloc[1].iloc[count])\n",
    "    count += 1"
   ]
  },
  {
   "cell_type": "code",
   "execution_count": null,
   "metadata": {},
   "outputs": [],
   "source": [
    "#map the crash severity to a number \n",
    "def crash_severity(severity):\n",
    "    \"\"\"\n",
    "    Injuries are categorized on a scale of 0 to X\n",
    "    0 - No Injury / Drive Away \n",
    "    1 - Injury and / or tow  \n",
    "    \"\"\"\n",
    "    if severity == 'NO INJURY / DRIVE AWAY':\n",
    "        return 0\n",
    "    else:\n",
    "        return 1\n",
    "    \n",
    "\n",
    "df_accidents['crash_type'] = df_accidents['crash_type'].map(crash_severity)"
   ]
  }
 ],
 "metadata": {
  "kernelspec": {
   "display_name": "Python 3",
   "language": "python",
   "name": "python3"
  },
  "language_info": {
   "codemirror_mode": {
    "name": "ipython",
    "version": 3
   },
   "file_extension": ".py",
   "mimetype": "text/x-python",
   "name": "python",
   "nbconvert_exporter": "python",
   "pygments_lexer": "ipython3",
   "version": "3.8.5"
  }
 },
 "nbformat": 4,
 "nbformat_minor": 4
}
